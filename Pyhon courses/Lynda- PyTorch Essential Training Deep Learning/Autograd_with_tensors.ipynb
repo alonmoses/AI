{
 "cells": [
  {
   "cell_type": "markdown",
   "metadata": {
    "colab_type": "text",
    "id": "KPXHZpput5Xf"
   },
   "source": [
    "# Autograd with tensors"
   ]
  },
  {
   "cell_type": "code",
   "execution_count": 22,
   "metadata": {
    "colab": {},
    "colab_type": "code",
    "id": "p-C6nLqAt98a"
   },
   "outputs": [],
   "source": [
    "import torch"
   ]
  },
  {
   "cell_type": "code",
   "execution_count": 23,
   "metadata": {
    "colab": {},
    "colab_type": "code",
    "id": "WRSfe0Lut952"
   },
   "outputs": [],
   "source": [
    "w = torch.randn(4,3, requires_grad=True)"
   ]
  },
  {
   "cell_type": "code",
   "execution_count": 24,
   "metadata": {
    "colab": {},
    "colab_type": "code",
    "id": "O-QcOYO1tkOn"
   },
   "outputs": [
    {
     "data": {
      "text/plain": [
       "tensor([[ 1.3115,  0.3301,  1.4035],\n",
       "        [ 0.1786,  0.7160, -0.1066],\n",
       "        [-0.8963, -1.4334,  0.2955],\n",
       "        [ 0.1453,  0.5659, -0.6640]], requires_grad=True)"
      ]
     },
     "execution_count": 24,
     "metadata": {},
     "output_type": "execute_result"
    }
   ],
   "source": [
    "w "
   ]
  },
  {
   "cell_type": "code",
   "execution_count": 25,
   "metadata": {
    "colab": {},
    "colab_type": "code",
    "id": "FuWckF34t8X1"
   },
   "outputs": [
    {
     "data": {
      "text/plain": [
       "tensor([[ 1.3115,  0.3301,  1.4035],\n",
       "        [ 0.1786,  0.7160, -0.1066],\n",
       "        [-0.8963, -1.4334,  0.2955],\n",
       "        [ 0.1453,  0.5659, -0.6640]])"
      ]
     },
     "execution_count": 25,
     "metadata": {},
     "output_type": "execute_result"
    }
   ],
   "source": [
    "w.requires_grad_(False)"
   ]
  },
  {
   "cell_type": "code",
   "execution_count": 26,
   "metadata": {},
   "outputs": [
    {
     "data": {
      "text/plain": [
       "tensor([[ 1.3115,  0.3301,  1.4035],\n",
       "        [ 0.1786,  0.7160, -0.1066],\n",
       "        [-0.8963, -1.4334,  0.2955],\n",
       "        [ 0.1453,  0.5659, -0.6640]], requires_grad=True)"
      ]
     },
     "execution_count": 26,
     "metadata": {},
     "output_type": "execute_result"
    }
   ],
   "source": [
    "w.requires_grad_(True)"
   ]
  },
  {
   "cell_type": "code",
   "execution_count": 27,
   "metadata": {
    "colab": {},
    "colab_type": "code",
    "id": "SkQCjuabt8Vh"
   },
   "outputs": [],
   "source": [
    "y = torch.exp(w)"
   ]
  },
  {
   "cell_type": "code",
   "execution_count": 28,
   "metadata": {
    "colab": {},
    "colab_type": "code",
    "id": "rvggJC5wt8Ti"
   },
   "outputs": [
    {
     "data": {
      "text/plain": [
       "tensor([[3.7119, 1.3911, 4.0695],\n",
       "        [1.1956, 2.0462, 0.8989],\n",
       "        [0.4081, 0.2385, 1.3438],\n",
       "        [1.1564, 1.7609, 0.5148]], grad_fn=<ExpBackward>)"
      ]
     },
     "execution_count": 28,
     "metadata": {},
     "output_type": "execute_result"
    }
   ],
   "source": [
    "y"
   ]
  },
  {
   "cell_type": "code",
   "execution_count": 29,
   "metadata": {
    "colab": {},
    "colab_type": "code",
    "id": "PEg2PQiXt8RR"
   },
   "outputs": [
    {
     "name": "stdout",
     "output_type": "stream",
     "text": [
      "<ExpBackward object at 0x000002418BFE2188>\n"
     ]
    }
   ],
   "source": [
    "print(y.grad_fn)"
   ]
  },
  {
   "cell_type": "code",
   "execution_count": 30,
   "metadata": {
    "colab": {},
    "colab_type": "code",
    "id": "QZopoC8It8O7"
   },
   "outputs": [
    {
     "name": "stdout",
     "output_type": "stream",
     "text": [
      "tensor(1.5613, grad_fn=<MeanBackward0>)\n"
     ]
    }
   ],
   "source": [
    "outp = y.mean()\n",
    "print(outp)"
   ]
  },
  {
   "cell_type": "code",
   "execution_count": 31,
   "metadata": {
    "colab": {},
    "colab_type": "code",
    "id": "ManI6K2rt8HD"
   },
   "outputs": [
    {
     "name": "stdout",
     "output_type": "stream",
     "text": [
      "None\n"
     ]
    }
   ],
   "source": [
    "print(w.grad)"
   ]
  },
  {
   "cell_type": "code",
   "execution_count": 32,
   "metadata": {
    "colab": {},
    "colab_type": "code",
    "id": "tbQpKI4it8EJ"
   },
   "outputs": [],
   "source": [
    "outp.backward() # calculation of the gradient"
   ]
  },
  {
   "cell_type": "code",
   "execution_count": 33,
   "metadata": {
    "colab": {},
    "colab_type": "code",
    "id": "Qq3KkSGvt8B_"
   },
   "outputs": [
    {
     "name": "stdout",
     "output_type": "stream",
     "text": [
      "tensor([[0.3093, 0.1159, 0.3391],\n",
      "        [0.0996, 0.1705, 0.0749],\n",
      "        [0.0340, 0.0199, 0.1120],\n",
      "        [0.0964, 0.1467, 0.0429]])\n"
     ]
    }
   ],
   "source": [
    "print(w.grad) # print the calculated grads"
   ]
  },
  {
   "cell_type": "code",
   "execution_count": 34,
   "metadata": {
    "colab": {},
    "colab_type": "code",
    "id": "SgOzb_QMt7_-"
   },
   "outputs": [
    {
     "name": "stdout",
     "output_type": "stream",
     "text": [
      "tensor([[ 1.3115,  0.3301,  1.4035],\n",
      "        [ 0.1786,  0.7160, -0.1066],\n",
      "        [-0.8963, -1.4334,  0.2955],\n",
      "        [ 0.1453,  0.5659, -0.6640]])\n"
     ]
    }
   ],
   "source": [
    "print(w.detach()) # will prevent update of the gradient in the future"
   ]
  },
  {
   "cell_type": "code",
   "execution_count": 35,
   "metadata": {
    "colab": {},
    "colab_type": "code",
    "id": "zVpIjfJ9t79q"
   },
   "outputs": [
    {
     "name": "stdout",
     "output_type": "stream",
     "text": [
      "tensor([[0.3093, 0.1159, 0.3391],\n",
      "        [0.0996, 0.1705, 0.0749],\n",
      "        [0.0340, 0.0199, 0.1120],\n",
      "        [0.0964, 0.1467, 0.0429]])\n"
     ]
    }
   ],
   "source": [
    "print(w.grad)"
   ]
  },
  {
   "cell_type": "code",
   "execution_count": 37,
   "metadata": {
    "colab": {},
    "colab_type": "code",
    "id": "_zJ-R2vvt77R"
   },
   "outputs": [
    {
     "name": "stdout",
     "output_type": "stream",
     "text": [
      "False\n"
     ]
    }
   ],
   "source": [
    "with torch.no_grad(): # prevention of tracking history\n",
    "    outp = (w+y).mean() \n",
    "    \n",
    "print(outp.requires_grad)"
   ]
  },
  {
   "cell_type": "code",
   "execution_count": 0,
   "metadata": {
    "colab": {},
    "colab_type": "code",
    "id": "J89G4qJjt73R"
   },
   "outputs": [],
   "source": []
  },
  {
   "cell_type": "code",
   "execution_count": 0,
   "metadata": {
    "colab": {},
    "colab_type": "code",
    "id": "j6LeAdwRt71B"
   },
   "outputs": [],
   "source": []
  },
  {
   "cell_type": "code",
   "execution_count": 0,
   "metadata": {
    "colab": {},
    "colab_type": "code",
    "id": "cg0PVIylt7y1"
   },
   "outputs": [],
   "source": []
  },
  {
   "cell_type": "code",
   "execution_count": 0,
   "metadata": {
    "colab": {},
    "colab_type": "code",
    "id": "ZO2B3MaSt7we"
   },
   "outputs": [],
   "source": []
  },
  {
   "cell_type": "code",
   "execution_count": 0,
   "metadata": {
    "colab": {},
    "colab_type": "code",
    "id": "oOG09FTEt7uO"
   },
   "outputs": [],
   "source": []
  },
  {
   "cell_type": "code",
   "execution_count": 0,
   "metadata": {
    "colab": {},
    "colab_type": "code",
    "id": "EIOQXJu-t7sK"
   },
   "outputs": [],
   "source": []
  },
  {
   "cell_type": "code",
   "execution_count": 0,
   "metadata": {
    "colab": {},
    "colab_type": "code",
    "id": "bkjm3Hp3t7p-"
   },
   "outputs": [],
   "source": []
  }
 ],
 "metadata": {
  "colab": {
   "collapsed_sections": [],
   "name": "Autograd with tensors.ipynb",
   "provenance": [],
   "version": "0.3.2"
  },
  "kernelspec": {
   "display_name": "Python 3",
   "language": "python",
   "name": "python3"
  },
  "language_info": {
   "codemirror_mode": {
    "name": "ipython",
    "version": 3
   },
   "file_extension": ".py",
   "mimetype": "text/x-python",
   "name": "python",
   "nbconvert_exporter": "python",
   "pygments_lexer": "ipython3",
   "version": "3.7.4"
  }
 },
 "nbformat": 4,
 "nbformat_minor": 1
}
