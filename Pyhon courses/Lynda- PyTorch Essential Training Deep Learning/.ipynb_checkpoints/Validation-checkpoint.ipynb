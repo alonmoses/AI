{
 "cells": [
  {
   "cell_type": "markdown",
   "metadata": {
    "colab_type": "text",
    "id": "gXmCHcwKs6rd"
   },
   "source": [
    "# Validation"
   ]
  },
  {
   "cell_type": "code",
   "execution_count": 1,
   "metadata": {
    "colab": {},
    "colab_type": "code",
    "id": "PzCCniVwNTdp"
   },
   "outputs": [],
   "source": [
    "# Setting seeds to try and ensure we have the same results - this is not guaranteed across PyTorch releases.\n",
    "import torch\n",
    "torch.manual_seed(0)\n",
    "torch.backends.cudnn.deterministic = True\n",
    "torch.backends.cudnn.benchmark = False\n",
    "\n",
    "import numpy as np\n",
    "np.random.seed(0)"
   ]
  },
  {
   "cell_type": "code",
   "execution_count": 2,
   "metadata": {
    "colab": {},
    "colab_type": "code",
    "id": "PCJzXv0OK1Bs"
   },
   "outputs": [],
   "source": [
    "from torchvision import datasets, transforms\n",
    "import torch.nn.functional as F\n",
    "from torch import nn\n",
    "\n",
    "mean, std = (0.5,), (0.5,)\n",
    "\n",
    "# Create a transform and normalise data\n",
    "transform = transforms.Compose([transforms.ToTensor(),\n",
    "                                transforms.Normalize(mean, std)\n",
    "                              ])\n",
    "\n",
    "# Download FMNIST training dataset and load training data\n",
    "trainset = datasets.FashionMNIST('~/.pytorch/FMNIST/', download=True, train=True, transform=transform)\n",
    "trainloader = torch.utils.data.DataLoader(trainset, batch_size=64, shuffle=True)\n",
    "\n",
    "# Download FMNIST test dataset and load test data\n",
    "testset = datasets.FashionMNIST('~/.pytorch/FMNIST/', download=True, train=False, transform=transform)\n",
    "testloader = torch.utils.data.DataLoader(testset, batch_size=64, shuffle=False)"
   ]
  },
  {
   "cell_type": "code",
   "execution_count": 3,
   "metadata": {
    "colab": {},
    "colab_type": "code",
    "id": "rqMqFbIVrbFH"
   },
   "outputs": [],
   "source": [
    "class FMNIST(nn.Module):\n",
    "  def __init__(self):\n",
    "    super().__init__()\n",
    "    self.fc1 = nn.Linear(784, 128)\n",
    "    self.fc2 = nn.Linear(128,64)\n",
    "    self.fc3 = nn.Linear(64,10)\n",
    "    \n",
    "  def forward(self, x):\n",
    "    x = x.view(x.shape[0], -1)\n",
    "    \n",
    "    x = F.relu(self.fc1(x))\n",
    "    x = F.relu(self.fc2(x))\n",
    "    x = self.fc3(x)\n",
    "    x = F.log_softmax(x, dim=1)\n",
    "    \n",
    "    return x\n",
    "\n",
    "model = FMNIST()"
   ]
  },
  {
   "cell_type": "code",
   "execution_count": 4,
   "metadata": {
    "colab": {},
    "colab_type": "code",
    "id": "oNNyI5YRZ7H1"
   },
   "outputs": [
    {
     "name": "stdout",
     "output_type": "stream",
     "text": [
      "Training loss: 1.0330837279367548\n",
      "Training loss: 0.5605115163555023\n",
      "Training loss: 0.4899622876761056\n"
     ]
    }
   ],
   "source": [
    "from torch import optim\n",
    "\n",
    "criterion = nn.NLLLoss()\n",
    "optimizer = optim.SGD(model.parameters(), lr=0.01)\n",
    "\n",
    "num_epochs = 3\n",
    "\n",
    "for i in range(num_epochs):\n",
    "    cum_loss = 0\n",
    "\n",
    "    for images, labels in trainloader:\n",
    "        optimizer.zero_grad()\n",
    "        output = model(images)\n",
    "        loss = criterion(output, labels)\n",
    "        loss.backward()\n",
    "        optimizer.step()\n",
    "        \n",
    "        cum_loss += loss.item()\n",
    "     \n",
    "    print(f\"Training loss: {cum_loss/len(trainloader)}\")"
   ]
  },
  {
   "cell_type": "code",
   "execution_count": 5,
   "metadata": {
    "colab": {},
    "colab_type": "code",
    "id": "UWYw7ZOzsS8U"
   },
   "outputs": [],
   "source": [
    "import matplotlib.pyplot as plt\n",
    "%matplotlib inline\n",
    "\n",
    "images, labels = next(iter(testloader))\n",
    "\n",
    "test_image_id = 0 \n",
    "img = images[test_image_id].view(1, 784) \n",
    "\n",
    "with torch.no_grad():\n",
    "    logps = model(img)"
   ]
  },
  {
   "cell_type": "code",
   "execution_count": 6,
   "metadata": {
    "colab": {},
    "colab_type": "code",
    "id": "2tRjoEDSqY8X"
   },
   "outputs": [
    {
     "data": {
      "text/plain": [
       "tensor([[2.2996e-06, 2.8763e-07, 5.5814e-06, 1.0909e-06, 4.0892e-06, 1.0550e-01,\n",
       "         6.2521e-06, 3.2236e-01, 6.3683e-03, 5.6576e-01]])"
      ]
     },
     "execution_count": 6,
     "metadata": {},
     "output_type": "execute_result"
    }
   ],
   "source": [
    "ps = torch.exp(logps)\n",
    "ps"
   ]
  },
  {
   "cell_type": "code",
   "execution_count": 7,
   "metadata": {
    "colab": {},
    "colab_type": "code",
    "id": "dpP_RLV-qkc6"
   },
   "outputs": [
    {
     "data": {
      "text/plain": [
       "array([2.2996344e-06, 2.8763074e-07, 5.5814035e-06, 1.0909203e-06,\n",
       "       4.0892369e-06, 1.0549851e-01, 6.2521153e-06, 3.2235703e-01,\n",
       "       6.3682911e-03, 5.6575662e-01], dtype=float32)"
      ]
     },
     "execution_count": 7,
     "metadata": {},
     "output_type": "execute_result"
    }
   ],
   "source": [
    "nps = ps.numpy()[0]\n",
    "nps"
   ]
  },
  {
   "cell_type": "code",
   "execution_count": 8,
   "metadata": {
    "colab": {},
    "colab_type": "code",
    "id": "kBf23XrtqrB6"
   },
   "outputs": [
    {
     "data": {
      "text/plain": [
       "<BarContainer object of 10 artists>"
      ]
     },
     "execution_count": 8,
     "metadata": {},
     "output_type": "execute_result"
    },
    {
     "data": {
      "image/png": "[encoded data removed]",
      "text/plain": [
       "<Figure size 432x288 with 1 Axes>"
      ]
     },
     "metadata": {
      "needs_background": "light"
     },
     "output_type": "display_data"
    }
   ],
   "source": [
    "FMNIST_labels = ['T-shirt/top','Trouser','Pullover','Dress','Coat','Sandal','Shirt','Sport Shoes','Bag','Ankle Boots']\n",
    "plt.xticks(np.arange(10),labels=FMNIST_labels,rotation='vertical')\n",
    "plt.bar(np.arange(10), nps)"
   ]
  },
  {
   "cell_type": "code",
   "execution_count": 9,
   "metadata": {
    "colab": {},
    "colab_type": "code",
    "id": "Y7gY5hARpOp4"
   },
   "outputs": [
    {
     "data": {
      "text/plain": [
       "<matplotlib.image.AxesImage at 0x1ba97d60808>"
      ]
     },
     "execution_count": 9,
     "metadata": {},
     "output_type": "execute_result"
    },
    {
     "data": {
      "image/png": "[encoded data removed]",
      "text/plain": [
       "<Figure size 432x288 with 1 Axes>"
      ]
     },
     "metadata": {
      "needs_background": "light"
     },
     "output_type": "display_data"
    }
   ],
   "source": [
    "def denormalize(tensor):\n",
    "  tensor = tensor*0.5 + 0.5\n",
    "  return tensor\n",
    "  \n",
    "img = img.view(28,-1)\n",
    "img = denormalize(img)\n",
    "plt.imshow(img,cmap='gray')"
   ]
  },
  {
   "cell_type": "code",
   "execution_count": 10,
   "metadata": {
    "colab": {},
    "colab_type": "code",
    "id": "AxTiil7cXOAz"
   },
   "outputs": [
    {
     "name": "stdout",
     "output_type": "stream",
     "text": [
      "tensor([[2.2996e-06, 2.8763e-07, 5.5814e-06, 1.0909e-06, 4.0892e-06, 1.0550e-01,\n",
      "         6.2521e-06, 3.2236e-01, 6.3683e-03, 5.6576e-01],\n",
      "        [1.2639e-03, 4.2291e-05, 8.9812e-01, 1.9489e-04, 1.8098e-02, 9.3093e-06,\n",
      "         8.1457e-02, 5.5758e-09, 8.1088e-04, 3.7371e-07],\n",
      "        [3.3151e-05, 9.9974e-01, 3.0536e-05, 1.1877e-04, 7.1795e-05, 2.6324e-08,\n",
      "         2.3303e-07, 6.9726e-07, 8.2682e-09, 1.2902e-08],\n",
      "        [8.5175e-06, 9.9945e-01, 3.7075e-05, 4.5752e-04, 4.8244e-05, 1.9500e-07,\n",
      "         1.7794e-07, 3.0953e-06, 1.6362e-08, 8.9802e-08],\n",
      "        [1.4156e-01, 4.7915e-04, 1.4620e-01, 1.4308e-02, 1.0319e-02, 2.2091e-04,\n",
      "         6.7772e-01, 1.1854e-06, 9.1712e-03, 1.0658e-05],\n",
      "        [4.1099e-03, 9.8315e-01, 9.2229e-04, 2.8325e-03, 8.8148e-03, 6.4410e-07,\n",
      "         1.6051e-04, 5.1487e-06, 2.2893e-06, 3.3823e-07],\n",
      "        [2.5838e-02, 9.7955e-04, 5.6154e-02, 1.4196e-03, 6.8864e-01, 1.2493e-04,\n",
      "         2.2331e-01, 1.1381e-06, 3.5328e-03, 1.4889e-06],\n",
      "        [7.5150e-03, 2.2281e-04, 6.8138e-02, 2.7388e-03, 1.3844e-01, 3.4160e-04,\n",
      "         7.6830e-01, 5.5603e-07, 1.4307e-02, 5.3064e-06],\n",
      "        [1.9713e-02, 2.1135e-03, 1.7049e-02, 2.0589e-02, 4.6557e-03, 7.1216e-01,\n",
      "         1.7848e-02, 1.5688e-01, 4.6871e-02, 2.1179e-03],\n",
      "        [1.9935e-05, 4.8881e-06, 1.0864e-05, 3.2574e-05, 2.8637e-05, 1.7843e-02,\n",
      "         1.3477e-05, 9.7717e-01, 2.3273e-03, 2.5511e-03],\n",
      "        [1.2924e-03, 1.3059e-02, 4.0875e-01, 1.7164e-03, 4.9082e-01, 5.2294e-05,\n",
      "         8.3984e-02, 3.0295e-07, 3.2414e-04, 4.2008e-06],\n",
      "        [1.4144e-04, 2.4796e-05, 6.8296e-04, 6.8759e-05, 2.9250e-04, 7.1203e-01,\n",
      "         4.4779e-04, 1.7668e-01, 2.5009e-02, 8.4621e-02],\n",
      "        [4.1237e-04, 7.8108e-05, 2.0161e-03, 1.6936e-03, 1.1188e-03, 7.8400e-01,\n",
      "         1.1299e-03, 7.5778e-02, 1.3230e-01, 1.4690e-03],\n",
      "        [3.4090e-03, 2.4285e-03, 2.5517e-04, 9.9095e-01, 2.2369e-04, 5.0834e-06,\n",
      "         5.1278e-04, 1.2353e-03, 9.5678e-04, 2.4250e-05],\n",
      "        [6.3733e-04, 9.8995e-05, 2.8280e-02, 1.2111e-03, 8.3914e-01, 6.3353e-06,\n",
      "         1.2105e-01, 1.9448e-07, 9.5758e-03, 1.9344e-06],\n",
      "        [6.7352e-04, 9.7853e-01, 6.6353e-04, 1.9324e-02, 7.5514e-04, 1.1861e-06,\n",
      "         3.4097e-05, 1.8909e-05, 1.3079e-06, 9.3821e-07],\n",
      "        [1.0937e-01, 8.8092e-03, 6.9890e-01, 6.6050e-03, 2.4586e-02, 5.4444e-04,\n",
      "         1.4978e-01, 1.0916e-06, 1.3956e-03, 7.0356e-06],\n",
      "        [2.6785e-02, 1.8054e-04, 2.6716e-01, 2.4603e-03, 1.6204e-01, 5.0891e-05,\n",
      "         5.2623e-01, 2.6516e-07, 1.5092e-02, 4.3392e-06],\n",
      "        [3.5849e-04, 1.8037e-06, 1.4376e-03, 3.3312e-05, 1.0336e-03, 5.6029e-03,\n",
      "         2.4050e-03, 1.0109e-03, 9.8651e-01, 1.6037e-03],\n",
      "        [9.5592e-01, 3.6602e-05, 2.1935e-03, 3.3780e-03, 5.9655e-05, 8.1539e-08,\n",
      "         3.8362e-02, 4.0189e-09, 5.3961e-05, 9.0337e-09],\n",
      "        [4.1032e-01, 1.1240e-02, 2.5067e-01, 2.5493e-02, 3.0113e-02, 1.2996e-03,\n",
      "         2.5386e-01, 6.1971e-05, 1.6514e-02, 4.3277e-04],\n",
      "        [4.6964e-05, 3.4961e-05, 2.4158e-04, 1.4530e-04, 2.4812e-04, 4.0745e-01,\n",
      "         9.1820e-05, 5.6609e-01, 1.9226e-02, 6.4269e-03],\n",
      "        [8.5651e-08, 1.7688e-07, 4.7930e-07, 4.5702e-07, 1.1136e-06, 1.2470e-02,\n",
      "         1.1175e-07, 9.7446e-01, 6.9538e-04, 1.2374e-02],\n",
      "        [6.2922e-06, 1.8906e-06, 1.1790e-05, 5.3512e-06, 7.0130e-06, 2.4592e-01,\n",
      "         4.9792e-06, 6.7924e-01, 2.5611e-03, 7.2244e-02],\n",
      "        [9.9689e-06, 9.9955e-01, 2.2278e-05, 3.7500e-04, 3.9948e-05, 2.4263e-07,\n",
      "         1.1878e-07, 6.6887e-06, 2.0819e-08, 8.3056e-08],\n",
      "        [1.0420e-02, 2.0910e-03, 7.3854e-01, 1.6825e-02, 4.7002e-02, 3.6976e-03,\n",
      "         1.6597e-01, 4.8264e-06, 1.5431e-02, 1.3108e-05],\n",
      "        [1.4463e-03, 6.8307e-05, 8.8528e-02, 5.4903e-04, 2.7992e-01, 1.6894e-05,\n",
      "         6.2525e-01, 3.1104e-08, 4.2206e-03, 2.1797e-06],\n",
      "        [6.2291e-01, 8.7528e-03, 5.2403e-03, 2.9939e-01, 1.0429e-02, 2.2279e-07,\n",
      "         5.2941e-02, 1.8645e-06, 3.3405e-04, 3.3905e-07],\n",
      "        [4.3355e-07, 5.0851e-08, 7.7735e-07, 1.5596e-07, 7.1256e-07, 1.4958e-02,\n",
      "         7.5023e-07, 2.3894e-01, 3.2600e-03, 7.4284e-01],\n",
      "        [1.2847e-01, 8.6972e-04, 6.3882e-03, 2.2930e-01, 2.2558e-01, 1.6350e-06,\n",
      "         3.9694e-01, 6.4030e-06, 1.2441e-02, 2.3236e-06],\n",
      "        [4.1684e-06, 7.3519e-08, 7.0797e-05, 1.2304e-05, 3.4587e-04, 7.3117e-04,\n",
      "         1.5778e-04, 1.7997e-04, 9.9839e-01, 1.1067e-04],\n",
      "        [1.1437e-02, 7.5345e-06, 3.6094e-03, 2.0823e-02, 1.3674e-03, 5.3755e-04,\n",
      "         2.7363e-02, 5.3008e-05, 9.3477e-01, 3.0900e-05],\n",
      "        [2.1929e-02, 4.2868e-03, 4.4576e-03, 9.3121e-01, 4.6703e-03, 4.0991e-04,\n",
      "         1.4844e-02, 2.0991e-03, 1.5972e-02, 1.1845e-04],\n",
      "        [8.3666e-02, 3.0129e-04, 1.2209e-02, 8.2310e-01, 4.3928e-03, 6.9344e-07,\n",
      "         7.2578e-02, 2.4955e-06, 3.7517e-03, 4.1231e-07],\n",
      "        [2.5479e-04, 1.9684e-06, 4.5720e-03, 1.3911e-03, 5.5625e-04, 2.6592e-03,\n",
      "         3.0347e-03, 8.0992e-05, 9.8742e-01, 3.2240e-05],\n",
      "        [7.8490e-01, 2.3637e-04, 1.2098e-02, 2.2482e-02, 8.0932e-04, 2.8579e-05,\n",
      "         1.7779e-01, 1.0928e-06, 1.6524e-03, 1.0434e-06],\n",
      "        [4.2579e-06, 4.4171e-06, 2.8722e-06, 5.9941e-06, 1.4651e-05, 8.6868e-03,\n",
      "         2.7218e-06, 9.8721e-01, 5.0797e-04, 3.5577e-03],\n",
      "        [3.3255e-03, 1.9298e-04, 2.7416e-03, 2.3265e-03, 4.7369e-04, 9.2164e-01,\n",
      "         4.6278e-03, 5.2349e-02, 1.0808e-02, 1.5132e-03],\n",
      "        [2.5315e-06, 4.9933e-06, 7.4088e-06, 4.4317e-06, 2.9016e-05, 1.1703e-02,\n",
      "         2.5466e-06, 9.8324e-01, 1.0241e-03, 3.9827e-03],\n",
      "        [3.2894e-08, 3.5275e-09, 6.0273e-08, 6.1745e-09, 3.4187e-08, 2.1744e-03,\n",
      "         7.4843e-08, 2.0058e-02, 2.8813e-04, 9.7748e-01],\n",
      "        [6.7859e-01, 6.3916e-06, 1.4842e-03, 3.3895e-03, 6.4268e-04, 6.0411e-08,\n",
      "         3.1543e-01, 6.4767e-09, 4.5922e-04, 5.2380e-08],\n",
      "        [1.5003e-05, 9.9966e-01, 1.7300e-05, 2.0982e-04, 8.5730e-05, 4.3179e-08,\n",
      "         2.2374e-07, 8.4938e-06, 1.0661e-08, 1.6716e-07],\n",
      "        [2.7904e-01, 2.7963e-03, 3.7852e-02, 2.3750e-01, 9.6414e-02, 3.1983e-06,\n",
      "         3.3977e-01, 1.1770e-06, 6.6146e-03, 5.0247e-07],\n",
      "        [1.1429e-07, 2.0294e-08, 1.2854e-07, 1.6782e-08, 7.9477e-08, 1.3776e-02,\n",
      "         9.9962e-08, 2.8604e-01, 1.6125e-04, 7.0002e-01],\n",
      "        [4.1656e-03, 4.1803e-05, 1.0097e-01, 2.1790e-03, 1.2748e-01, 3.1085e-06,\n",
      "         7.6263e-01, 6.1993e-09, 2.5316e-03, 1.3050e-07],\n",
      "        [3.9515e-04, 1.8971e-05, 2.9373e-04, 1.2062e-04, 1.3135e-04, 4.4628e-01,\n",
      "         5.8802e-04, 4.2267e-01, 2.9705e-02, 9.9792e-02],\n",
      "        [3.1247e-02, 6.0498e-04, 7.3333e-01, 4.8743e-03, 1.6263e-02, 4.4445e-05,\n",
      "         2.1125e-01, 9.1278e-08, 2.3810e-03, 2.8689e-06],\n",
      "        [1.9210e-03, 9.3644e-01, 7.3195e-04, 5.8936e-02, 1.7949e-03, 6.2468e-07,\n",
      "         7.1884e-05, 9.2676e-05, 3.9178e-06, 2.5924e-06],\n",
      "        [3.1877e-03, 1.7908e-02, 5.7372e-01, 1.4439e-02, 3.2581e-01, 4.2512e-04,\n",
      "         6.1964e-02, 3.5296e-06, 2.5437e-03, 7.4307e-06],\n",
      "        [6.6407e-03, 8.3005e-05, 1.5339e-01, 2.4951e-03, 5.0666e-02, 4.0699e-05,\n",
      "         7.8040e-01, 5.4239e-08, 6.2887e-03, 1.7671e-06],\n",
      "        [1.3668e-02, 3.3426e-04, 2.5951e-01, 1.2944e-03, 3.5622e-01, 6.8766e-05,\n",
      "         3.5691e-01, 3.7882e-07, 1.1983e-02, 6.5342e-06],\n",
      "        [1.0810e-02, 5.9136e-04, 5.8824e-01, 3.5787e-03, 3.9832e-02, 1.9077e-03,\n",
      "         3.4848e-01, 7.0344e-07, 6.5543e-03, 3.6337e-06],\n",
      "        [5.8759e-03, 9.1238e-04, 5.6211e-03, 5.4233e-03, 9.0851e-04, 7.7789e-01,\n",
      "         5.1098e-03, 1.7446e-01, 1.4252e-02, 9.5414e-03],\n",
      "        [4.0154e-02, 9.2551e-05, 1.0427e-01, 2.2840e-03, 1.7849e-02, 2.5312e-03,\n",
      "         5.9750e-01, 9.1391e-06, 2.3454e-01, 7.6820e-04],\n",
      "        [2.2473e-02, 1.9890e-02, 5.5188e-01, 3.7349e-02, 2.8305e-01, 6.6325e-05,\n",
      "         8.2045e-02, 1.6932e-06, 3.2404e-03, 2.1459e-06],\n",
      "        [5.8984e-02, 1.2673e-03, 8.4880e-01, 2.5746e-03, 6.7491e-03, 1.1210e-04,\n",
      "         7.9455e-02, 2.2193e-07, 2.0527e-03, 6.5687e-06],\n",
      "        [2.2192e-04, 2.9281e-07, 6.3312e-04, 2.0605e-05, 1.6052e-03, 2.6635e-04,\n",
      "         1.7432e-03, 6.8303e-05, 9.9540e-01, 4.4027e-05],\n",
      "        [9.2617e-04, 2.4769e-04, 3.8605e-01, 1.7762e-03, 3.7332e-01, 4.0150e-05,\n",
      "         2.3277e-01, 1.1839e-07, 4.8643e-03, 1.6267e-06],\n",
      "        [1.7712e-04, 1.3481e-07, 4.5072e-04, 1.0509e-05, 5.7936e-04, 4.2718e-04,\n",
      "         1.5035e-03, 7.4268e-05, 9.9672e-01, 5.4104e-05],\n",
      "        [8.8278e-01, 4.2598e-03, 1.9269e-02, 1.7929e-02, 1.7795e-03, 9.5803e-05,\n",
      "         7.3312e-02, 7.7225e-06, 5.6062e-04, 5.3905e-06],\n",
      "        [1.7718e-06, 1.0499e-06, 2.0148e-06, 3.0443e-06, 3.9428e-06, 1.4330e-02,\n",
      "         1.1720e-06, 9.8239e-01, 3.7522e-04, 2.8877e-03],\n",
      "        [5.2301e-07, 3.0392e-07, 1.3023e-06, 1.5839e-06, 2.9806e-06, 2.6879e-02,\n",
      "         7.8826e-07, 9.3754e-01, 2.6744e-03, 3.2903e-02],\n",
      "        [9.9537e-07, 5.8963e-07, 9.9743e-05, 9.5324e-06, 5.5525e-04, 6.0789e-03,\n",
      "         3.2090e-05, 6.1311e-03, 9.8431e-01, 2.7859e-03],\n",
      "        [8.8982e-04, 4.6674e-05, 1.3062e-03, 3.6065e-04, 2.1492e-04, 9.5671e-01,\n"
     ]
    },
    {
     "name": "stdout",
     "output_type": "stream",
     "text": [
      "         1.8327e-03, 2.1848e-02, 1.1607e-02, 5.1866e-03]])\n"
     ]
    }
   ],
   "source": [
    "with torch.no_grad():\n",
    "    num_correct = 0\n",
    "    total = 0\n",
    "\n",
    "    cnt = 0\n",
    "    for images, labels in testloader:\n",
    "        \n",
    "        logps = model(images)\n",
    "        output = torch.exp(logps)\n",
    "        print(output)\n",
    "        cnt+=1\n",
    "        \n",
    "        if cnt > 0:\n",
    "          break"
   ]
  },
  {
   "cell_type": "code",
   "execution_count": 11,
   "metadata": {
    "colab": {},
    "colab_type": "code",
    "id": "6Ij_wa7paveM"
   },
   "outputs": [],
   "source": [
    "with torch.no_grad():\n",
    "    num_correct = 0\n",
    "    total = 0\n",
    "\n",
    "    #set_trace()\n",
    "    for images, labels in testloader:\n",
    "        \n",
    "        logps = model(images)\n",
    "        output = torch.exp(logps)\n",
    "        \n",
    "        pred = torch.argmax(output, 1)\n",
    "        total += labels.size(0)\n"
   ]
  },
  {
   "cell_type": "code",
   "execution_count": 12,
   "metadata": {
    "colab": {},
    "colab_type": "code",
    "id": "nyxadgAyiRqg"
   },
   "outputs": [
    {
     "data": {
      "text/plain": [
       "(tensor([3, 0, 7, 5, 8, 4, 5, 6, 8, 9, 1, 9, 1, 8, 1, 5]),\n",
       " tensor([3, 2, 7, 5, 8, 4, 5, 6, 8, 9, 1, 9, 1, 8, 1, 5]))"
      ]
     },
     "execution_count": 12,
     "metadata": {},
     "output_type": "execute_result"
    }
   ],
   "source": [
    "pred, labels"
   ]
  },
  {
   "cell_type": "code",
   "execution_count": 13,
   "metadata": {
    "colab": {},
    "colab_type": "code",
    "id": "ojLPwZLdi3OX"
   },
   "outputs": [
    {
     "data": {
      "text/plain": [
       "tensor([ True, False,  True,  True,  True,  True,  True,  True,  True,  True,\n",
       "         True,  True,  True,  True,  True,  True])"
      ]
     },
     "execution_count": 13,
     "metadata": {},
     "output_type": "execute_result"
    }
   ],
   "source": [
    "pred == labels"
   ]
  },
  {
   "cell_type": "code",
   "execution_count": 14,
   "metadata": {
    "colab": {},
    "colab_type": "code",
    "id": "6V-3r9n-iCMb"
   },
   "outputs": [
    {
     "name": "stdout",
     "output_type": "stream",
     "text": [
      "Accuracy of the model on the 10000 test images: 82.13% \n"
     ]
    }
   ],
   "source": [
    "with torch.no_grad():\n",
    "    num_correct = 0\n",
    "    total = 0\n",
    "\n",
    "    #set_trace()\n",
    "    for images, labels in testloader:\n",
    "        \n",
    "        logps = model(images)\n",
    "        output = torch.exp(logps)\n",
    "        \n",
    "        pred = torch.argmax(output, 1)\n",
    "        total += labels.size(0)\n",
    "        num_correct += (pred == labels).sum().item()\n",
    "\n",
    "    print(f'Accuracy of the model on the 10000 test images: {num_correct * 100 / total}% ')"
   ]
  },
  {
   "cell_type": "code",
   "execution_count": 0,
   "metadata": {
    "colab": {},
    "colab_type": "code",
    "id": "2VNQH0g6F8xH"
   },
   "outputs": [],
   "source": []
  }
 ],
 "metadata": {
  "colab": {
   "collapsed_sections": [],
   "name": "04_03_validation.ipynb",
   "provenance": [],
   "version": "0.3.2"
  },
  "kernelspec": {
   "display_name": "Python 3",
   "language": "python",
   "name": "python3"
  },
  "language_info": {
   "codemirror_mode": {
    "name": "ipython",
    "version": 3
   },
   "file_extension": ".py",
   "mimetype": "text/x-python",
   "name": "python",
   "nbconvert_exporter": "python",
   "pygments_lexer": "ipython3",
   "version": "3.7.4"
  }
 },
 "nbformat": 4,
 "nbformat_minor": 1
}
