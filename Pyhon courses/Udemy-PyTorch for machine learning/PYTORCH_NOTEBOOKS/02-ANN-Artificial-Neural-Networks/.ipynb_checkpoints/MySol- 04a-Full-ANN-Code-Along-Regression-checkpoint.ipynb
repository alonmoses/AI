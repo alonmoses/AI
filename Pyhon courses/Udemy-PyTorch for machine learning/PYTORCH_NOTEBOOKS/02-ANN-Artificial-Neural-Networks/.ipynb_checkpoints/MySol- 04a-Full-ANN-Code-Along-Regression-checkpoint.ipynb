{
 "cells": [
  {
   "cell_type": "code",
   "execution_count": 122,
   "metadata": {},
   "outputs": [],
   "source": [
    "import torch\n",
    "import torch.nn as nn\n",
    "import numpy as np\n",
    "import pandas as pd\n",
    "import matplotlib.pyplot as plt"
   ]
  },
  {
   "cell_type": "code",
   "execution_count": 123,
   "metadata": {},
   "outputs": [
    {
     "data": {
      "text/html": [
       "<div>\n",
       "<style scoped>\n",
       "    .dataframe tbody tr th:only-of-type {\n",
       "        vertical-align: middle;\n",
       "    }\n",
       "\n",
       "    .dataframe tbody tr th {\n",
       "        vertical-align: top;\n",
       "    }\n",
       "\n",
       "    .dataframe thead th {\n",
       "        text-align: right;\n",
       "    }\n",
       "</style>\n",
       "<table border=\"1\" class=\"dataframe\">\n",
       "  <thead>\n",
       "    <tr style=\"text-align: right;\">\n",
       "      <th></th>\n",
       "      <th>pickup_datetime</th>\n",
       "      <th>fare_amount</th>\n",
       "      <th>fare_class</th>\n",
       "      <th>pickup_longitude</th>\n",
       "      <th>pickup_latitude</th>\n",
       "      <th>dropoff_longitude</th>\n",
       "      <th>dropoff_latitude</th>\n",
       "      <th>passenger_count</th>\n",
       "    </tr>\n",
       "  </thead>\n",
       "  <tbody>\n",
       "    <tr>\n",
       "      <th>0</th>\n",
       "      <td>2010-04-19 08:17:56 UTC</td>\n",
       "      <td>6.5</td>\n",
       "      <td>0</td>\n",
       "      <td>-73.992365</td>\n",
       "      <td>40.730521</td>\n",
       "      <td>-73.975499</td>\n",
       "      <td>40.744746</td>\n",
       "      <td>1</td>\n",
       "    </tr>\n",
       "    <tr>\n",
       "      <th>1</th>\n",
       "      <td>2010-04-17 15:43:53 UTC</td>\n",
       "      <td>6.9</td>\n",
       "      <td>0</td>\n",
       "      <td>-73.990078</td>\n",
       "      <td>40.740558</td>\n",
       "      <td>-73.974232</td>\n",
       "      <td>40.744114</td>\n",
       "      <td>1</td>\n",
       "    </tr>\n",
       "    <tr>\n",
       "      <th>2</th>\n",
       "      <td>2010-04-17 11:23:26 UTC</td>\n",
       "      <td>10.1</td>\n",
       "      <td>1</td>\n",
       "      <td>-73.994149</td>\n",
       "      <td>40.751118</td>\n",
       "      <td>-73.960064</td>\n",
       "      <td>40.766235</td>\n",
       "      <td>2</td>\n",
       "    </tr>\n",
       "    <tr>\n",
       "      <th>3</th>\n",
       "      <td>2010-04-11 21:25:03 UTC</td>\n",
       "      <td>8.9</td>\n",
       "      <td>0</td>\n",
       "      <td>-73.990485</td>\n",
       "      <td>40.756422</td>\n",
       "      <td>-73.971205</td>\n",
       "      <td>40.748192</td>\n",
       "      <td>1</td>\n",
       "    </tr>\n",
       "    <tr>\n",
       "      <th>4</th>\n",
       "      <td>2010-04-17 02:19:01 UTC</td>\n",
       "      <td>19.7</td>\n",
       "      <td>1</td>\n",
       "      <td>-73.990976</td>\n",
       "      <td>40.734202</td>\n",
       "      <td>-73.905956</td>\n",
       "      <td>40.743115</td>\n",
       "      <td>1</td>\n",
       "    </tr>\n",
       "  </tbody>\n",
       "</table>\n",
       "</div>"
      ],
      "text/plain": [
       "           pickup_datetime  fare_amount  fare_class  pickup_longitude  \\\n",
       "0  2010-04-19 08:17:56 UTC          6.5           0        -73.992365   \n",
       "1  2010-04-17 15:43:53 UTC          6.9           0        -73.990078   \n",
       "2  2010-04-17 11:23:26 UTC         10.1           1        -73.994149   \n",
       "3  2010-04-11 21:25:03 UTC          8.9           0        -73.990485   \n",
       "4  2010-04-17 02:19:01 UTC         19.7           1        -73.990976   \n",
       "\n",
       "   pickup_latitude  dropoff_longitude  dropoff_latitude  passenger_count  \n",
       "0        40.730521         -73.975499         40.744746                1  \n",
       "1        40.740558         -73.974232         40.744114                1  \n",
       "2        40.751118         -73.960064         40.766235                2  \n",
       "3        40.756422         -73.971205         40.748192                1  \n",
       "4        40.734202         -73.905956         40.743115                1  "
      ]
     },
     "execution_count": 123,
     "metadata": {},
     "output_type": "execute_result"
    }
   ],
   "source": [
    "df = pd.read_csv('../Data/NYCTaxiFares.csv')\n",
    "df.head()"
   ]
  },
  {
   "cell_type": "markdown",
   "metadata": {},
   "source": [
    "## Part1- feature engineering"
   ]
  },
  {
   "cell_type": "code",
   "execution_count": 124,
   "metadata": {},
   "outputs": [
    {
     "data": {
      "text/plain": [
       "count    120000.000000\n",
       "mean         10.040326\n",
       "std           7.500134\n",
       "min           2.500000\n",
       "25%           5.700000\n",
       "50%           7.700000\n",
       "75%          11.300000\n",
       "max          49.900000\n",
       "Name: fare_amount, dtype: float64"
      ]
     },
     "execution_count": 124,
     "metadata": {},
     "output_type": "execute_result"
    }
   ],
   "source": [
    "# see the stats of the fare\n",
    "df['fare_amount'].describe()"
   ]
  },
  {
   "cell_type": "markdown",
   "metadata": {},
   "source": [
    "## Calculate the distance traveled\n",
    "The <a href='https://en.wikipedia.org/wiki/Haversine_formula'>haversine formula</a> calculates the distance on a sphere between two sets of GPS coordinates.<br>\n",
    "Here we assign latitude values with $\\varphi$ (phi) and longitude with $\\lambda$ (lambda).\n",
    "\n",
    "The distance formula works out to\n",
    "\n",
    "${\\displaystyle d=2r\\arcsin \\left({\\sqrt {\\sin ^{2}\\left({\\frac {\\varphi _{2}-\\varphi _{1}}{2}}\\right)+\\cos(\\varphi _{1})\\:\\cos(\\varphi _{2})\\:\\sin ^{2}\\left({\\frac {\\lambda _{2}-\\lambda _{1}}{2}}\\right)}}\\right)}$\n",
    "\n",
    "where\n",
    "\n",
    "$\\begin{split} r&: \\textrm {radius of the sphere (Earth's radius averages 6371 km)}\\\\\n",
    "\\varphi_1, \\varphi_2&: \\textrm {latitudes of point 1 and point 2}\\\\\n",
    "\\lambda_1, \\lambda_2&: \\textrm {longitudes of point 1 and point 2}\\end{split}$"
   ]
  },
  {
   "cell_type": "code",
   "execution_count": 125,
   "metadata": {},
   "outputs": [],
   "source": [
    "# the input variables are the dataframe and the two coordinates\n",
    "def haversine_distance(df, lat1, long1, lat2, long2):\n",
    "    \"\"\"\n",
    "    Calculates the haversine distance between 2 sets of GPS coordinates in df\n",
    "    \"\"\"\n",
    "    r = 6371  # average radius of Earth in kilometers\n",
    "       \n",
    "    phi1 = np.radians(df[lat1])\n",
    "    phi2 = np.radians(df[lat2])\n",
    "    \n",
    "    delta_phi = np.radians(df[lat2]-df[lat1])\n",
    "    delta_lambda = np.radians(df[long2]-df[long1])\n",
    "     \n",
    "    a = np.sin(delta_phi/2)**2 + np.cos(phi1) * np.cos(phi2) * np.sin(delta_lambda/2)**2\n",
    "    c = 2 * np.arctan2(np.sqrt(a), np.sqrt(1-a))\n",
    "    d = (r * c) # in kilometers\n",
    "\n",
    "    return d"
   ]
  },
  {
   "cell_type": "code",
   "execution_count": 126,
   "metadata": {},
   "outputs": [
    {
     "data": {
      "text/plain": [
       "Index(['pickup_datetime', 'fare_amount', 'fare_class', 'pickup_longitude',\n",
       "       'pickup_latitude', 'dropoff_longitude', 'dropoff_latitude',\n",
       "       'passenger_count'],\n",
       "      dtype='object')"
      ]
     },
     "execution_count": 126,
     "metadata": {},
     "output_type": "execute_result"
    }
   ],
   "source": [
    "df.columns"
   ]
  },
  {
   "cell_type": "code",
   "execution_count": 127,
   "metadata": {},
   "outputs": [],
   "source": [
    "# send the df and the relevant column names\n",
    "df['disanceK'] = haversine_distance(df,'pickup_latitude', 'pickup_longitude', 'dropoff_latitude', 'dropoff_longitude')"
   ]
  },
  {
   "cell_type": "code",
   "execution_count": 128,
   "metadata": {},
   "outputs": [
    {
     "data": {
      "text/html": [
       "<div>\n",
       "<style scoped>\n",
       "    .dataframe tbody tr th:only-of-type {\n",
       "        vertical-align: middle;\n",
       "    }\n",
       "\n",
       "    .dataframe tbody tr th {\n",
       "        vertical-align: top;\n",
       "    }\n",
       "\n",
       "    .dataframe thead th {\n",
       "        text-align: right;\n",
       "    }\n",
       "</style>\n",
       "<table border=\"1\" class=\"dataframe\">\n",
       "  <thead>\n",
       "    <tr style=\"text-align: right;\">\n",
       "      <th></th>\n",
       "      <th>pickup_datetime</th>\n",
       "      <th>fare_amount</th>\n",
       "      <th>fare_class</th>\n",
       "      <th>pickup_longitude</th>\n",
       "      <th>pickup_latitude</th>\n",
       "      <th>dropoff_longitude</th>\n",
       "      <th>dropoff_latitude</th>\n",
       "      <th>passenger_count</th>\n",
       "      <th>disanceK</th>\n",
       "    </tr>\n",
       "  </thead>\n",
       "  <tbody>\n",
       "    <tr>\n",
       "      <th>0</th>\n",
       "      <td>2010-04-19 08:17:56 UTC</td>\n",
       "      <td>6.50</td>\n",
       "      <td>0</td>\n",
       "      <td>-73.992365</td>\n",
       "      <td>40.730521</td>\n",
       "      <td>-73.975499</td>\n",
       "      <td>40.744746</td>\n",
       "      <td>1</td>\n",
       "      <td>2.126312</td>\n",
       "    </tr>\n",
       "    <tr>\n",
       "      <th>1</th>\n",
       "      <td>2010-04-17 15:43:53 UTC</td>\n",
       "      <td>6.90</td>\n",
       "      <td>0</td>\n",
       "      <td>-73.990078</td>\n",
       "      <td>40.740558</td>\n",
       "      <td>-73.974232</td>\n",
       "      <td>40.744114</td>\n",
       "      <td>1</td>\n",
       "      <td>1.392307</td>\n",
       "    </tr>\n",
       "    <tr>\n",
       "      <th>2</th>\n",
       "      <td>2010-04-17 11:23:26 UTC</td>\n",
       "      <td>10.10</td>\n",
       "      <td>1</td>\n",
       "      <td>-73.994149</td>\n",
       "      <td>40.751118</td>\n",
       "      <td>-73.960064</td>\n",
       "      <td>40.766235</td>\n",
       "      <td>2</td>\n",
       "      <td>3.326763</td>\n",
       "    </tr>\n",
       "    <tr>\n",
       "      <th>3</th>\n",
       "      <td>2010-04-11 21:25:03 UTC</td>\n",
       "      <td>8.90</td>\n",
       "      <td>0</td>\n",
       "      <td>-73.990485</td>\n",
       "      <td>40.756422</td>\n",
       "      <td>-73.971205</td>\n",
       "      <td>40.748192</td>\n",
       "      <td>1</td>\n",
       "      <td>1.864129</td>\n",
       "    </tr>\n",
       "    <tr>\n",
       "      <th>4</th>\n",
       "      <td>2010-04-17 02:19:01 UTC</td>\n",
       "      <td>19.70</td>\n",
       "      <td>1</td>\n",
       "      <td>-73.990976</td>\n",
       "      <td>40.734202</td>\n",
       "      <td>-73.905956</td>\n",
       "      <td>40.743115</td>\n",
       "      <td>1</td>\n",
       "      <td>7.231321</td>\n",
       "    </tr>\n",
       "    <tr>\n",
       "      <th>5</th>\n",
       "      <td>2010-04-22 08:39:47 UTC</td>\n",
       "      <td>8.10</td>\n",
       "      <td>0</td>\n",
       "      <td>-73.980481</td>\n",
       "      <td>40.748995</td>\n",
       "      <td>-73.983508</td>\n",
       "      <td>40.766459</td>\n",
       "      <td>1</td>\n",
       "      <td>1.958574</td>\n",
       "    </tr>\n",
       "    <tr>\n",
       "      <th>6</th>\n",
       "      <td>2010-04-23 19:27:00 UTC</td>\n",
       "      <td>4.90</td>\n",
       "      <td>0</td>\n",
       "      <td>-73.959535</td>\n",
       "      <td>40.779582</td>\n",
       "      <td>-73.947185</td>\n",
       "      <td>40.780223</td>\n",
       "      <td>1</td>\n",
       "      <td>1.042304</td>\n",
       "    </tr>\n",
       "    <tr>\n",
       "      <th>7</th>\n",
       "      <td>2010-04-15 09:03:37 UTC</td>\n",
       "      <td>4.90</td>\n",
       "      <td>0</td>\n",
       "      <td>-74.002601</td>\n",
       "      <td>40.739419</td>\n",
       "      <td>-73.997912</td>\n",
       "      <td>40.730292</td>\n",
       "      <td>1</td>\n",
       "      <td>1.089064</td>\n",
       "    </tr>\n",
       "    <tr>\n",
       "      <th>8</th>\n",
       "      <td>2010-04-20 08:58:00 UTC</td>\n",
       "      <td>2.90</td>\n",
       "      <td>0</td>\n",
       "      <td>-74.014005</td>\n",
       "      <td>40.704058</td>\n",
       "      <td>-74.013202</td>\n",
       "      <td>40.702877</td>\n",
       "      <td>1</td>\n",
       "      <td>0.147740</td>\n",
       "    </tr>\n",
       "    <tr>\n",
       "      <th>9</th>\n",
       "      <td>2010-04-16 18:50:16 UTC</td>\n",
       "      <td>6.10</td>\n",
       "      <td>0</td>\n",
       "      <td>-73.977689</td>\n",
       "      <td>40.784175</td>\n",
       "      <td>-73.988639</td>\n",
       "      <td>40.778669</td>\n",
       "      <td>1</td>\n",
       "      <td>1.106731</td>\n",
       "    </tr>\n",
       "    <tr>\n",
       "      <th>10</th>\n",
       "      <td>2010-04-22 22:26:23 UTC</td>\n",
       "      <td>7.30</td>\n",
       "      <td>0</td>\n",
       "      <td>-74.007913</td>\n",
       "      <td>40.740409</td>\n",
       "      <td>-73.985561</td>\n",
       "      <td>40.752076</td>\n",
       "      <td>1</td>\n",
       "      <td>2.286620</td>\n",
       "    </tr>\n",
       "    <tr>\n",
       "      <th>11</th>\n",
       "      <td>2010-04-15 17:40:18 UTC</td>\n",
       "      <td>3.70</td>\n",
       "      <td>0</td>\n",
       "      <td>-73.954965</td>\n",
       "      <td>40.765030</td>\n",
       "      <td>-73.962556</td>\n",
       "      <td>40.766464</td>\n",
       "      <td>1</td>\n",
       "      <td>0.658880</td>\n",
       "    </tr>\n",
       "    <tr>\n",
       "      <th>12</th>\n",
       "      <td>2010-04-23 12:12:08 UTC</td>\n",
       "      <td>17.30</td>\n",
       "      <td>1</td>\n",
       "      <td>-73.997107</td>\n",
       "      <td>40.722116</td>\n",
       "      <td>-73.976628</td>\n",
       "      <td>40.775252</td>\n",
       "      <td>1</td>\n",
       "      <td>6.155152</td>\n",
       "    </tr>\n",
       "    <tr>\n",
       "      <th>13</th>\n",
       "      <td>2010-04-18 02:35:26 UTC</td>\n",
       "      <td>4.10</td>\n",
       "      <td>0</td>\n",
       "      <td>-73.989126</td>\n",
       "      <td>40.730024</td>\n",
       "      <td>-73.981524</td>\n",
       "      <td>40.732671</td>\n",
       "      <td>1</td>\n",
       "      <td>0.704939</td>\n",
       "    </tr>\n",
       "    <tr>\n",
       "      <th>14</th>\n",
       "      <td>2010-04-21 10:12:59 UTC</td>\n",
       "      <td>6.90</td>\n",
       "      <td>0</td>\n",
       "      <td>-73.990641</td>\n",
       "      <td>40.755181</td>\n",
       "      <td>-73.973317</td>\n",
       "      <td>40.763224</td>\n",
       "      <td>2</td>\n",
       "      <td>1.711402</td>\n",
       "    </tr>\n",
       "    <tr>\n",
       "      <th>15</th>\n",
       "      <td>2010-04-20 23:31:17 UTC</td>\n",
       "      <td>9.30</td>\n",
       "      <td>0</td>\n",
       "      <td>-73.973145</td>\n",
       "      <td>40.761542</td>\n",
       "      <td>-73.940974</td>\n",
       "      <td>40.792710</td>\n",
       "      <td>1</td>\n",
       "      <td>4.398790</td>\n",
       "    </tr>\n",
       "    <tr>\n",
       "      <th>16</th>\n",
       "      <td>2010-04-15 21:54:26 UTC</td>\n",
       "      <td>14.10</td>\n",
       "      <td>1</td>\n",
       "      <td>-74.002233</td>\n",
       "      <td>40.734468</td>\n",
       "      <td>-73.961872</td>\n",
       "      <td>40.764459</td>\n",
       "      <td>2</td>\n",
       "      <td>4.762431</td>\n",
       "    </tr>\n",
       "    <tr>\n",
       "      <th>17</th>\n",
       "      <td>2010-04-15 08:55:51 UTC</td>\n",
       "      <td>5.70</td>\n",
       "      <td>0</td>\n",
       "      <td>-73.961552</td>\n",
       "      <td>40.768434</td>\n",
       "      <td>-73.969448</td>\n",
       "      <td>40.763188</td>\n",
       "      <td>1</td>\n",
       "      <td>0.884574</td>\n",
       "    </tr>\n",
       "    <tr>\n",
       "      <th>18</th>\n",
       "      <td>2010-04-14 23:12:52 UTC</td>\n",
       "      <td>2.90</td>\n",
       "      <td>0</td>\n",
       "      <td>-73.988522</td>\n",
       "      <td>40.741219</td>\n",
       "      <td>-73.983734</td>\n",
       "      <td>40.739019</td>\n",
       "      <td>1</td>\n",
       "      <td>0.471769</td>\n",
       "    </tr>\n",
       "    <tr>\n",
       "      <th>19</th>\n",
       "      <td>2010-04-14 01:22:00 UTC</td>\n",
       "      <td>3.70</td>\n",
       "      <td>0</td>\n",
       "      <td>-73.986130</td>\n",
       "      <td>40.722437</td>\n",
       "      <td>-73.980585</td>\n",
       "      <td>40.730057</td>\n",
       "      <td>5</td>\n",
       "      <td>0.967606</td>\n",
       "    </tr>\n",
       "    <tr>\n",
       "      <th>20</th>\n",
       "      <td>2010-04-20 11:27:29 UTC</td>\n",
       "      <td>36.00</td>\n",
       "      <td>1</td>\n",
       "      <td>-73.874537</td>\n",
       "      <td>40.774075</td>\n",
       "      <td>-73.985187</td>\n",
       "      <td>40.760783</td>\n",
       "      <td>1</td>\n",
       "      <td>9.434908</td>\n",
       "    </tr>\n",
       "    <tr>\n",
       "      <th>21</th>\n",
       "      <td>2010-04-12 09:37:56 UTC</td>\n",
       "      <td>11.30</td>\n",
       "      <td>1</td>\n",
       "      <td>-74.006172</td>\n",
       "      <td>40.717227</td>\n",
       "      <td>-73.979662</td>\n",
       "      <td>40.760502</td>\n",
       "      <td>1</td>\n",
       "      <td>5.305046</td>\n",
       "    </tr>\n",
       "    <tr>\n",
       "      <th>22</th>\n",
       "      <td>2010-04-13 13:55:05 UTC</td>\n",
       "      <td>4.90</td>\n",
       "      <td>0</td>\n",
       "      <td>-73.998762</td>\n",
       "      <td>40.734666</td>\n",
       "      <td>-73.988645</td>\n",
       "      <td>40.735559</td>\n",
       "      <td>1</td>\n",
       "      <td>0.858184</td>\n",
       "    </tr>\n",
       "    <tr>\n",
       "      <th>23</th>\n",
       "      <td>2010-04-20 16:33:00 UTC</td>\n",
       "      <td>14.50</td>\n",
       "      <td>1</td>\n",
       "      <td>-73.987602</td>\n",
       "      <td>40.755443</td>\n",
       "      <td>-74.010645</td>\n",
       "      <td>40.702258</td>\n",
       "      <td>2</td>\n",
       "      <td>6.224503</td>\n",
       "    </tr>\n",
       "    <tr>\n",
       "      <th>24</th>\n",
       "      <td>2010-04-21 14:03:52 UTC</td>\n",
       "      <td>4.90</td>\n",
       "      <td>0</td>\n",
       "      <td>-73.957767</td>\n",
       "      <td>40.773552</td>\n",
       "      <td>-73.965617</td>\n",
       "      <td>40.765570</td>\n",
       "      <td>1</td>\n",
       "      <td>1.106694</td>\n",
       "    </tr>\n",
       "    <tr>\n",
       "      <th>25</th>\n",
       "      <td>2010-04-24 09:16:19 UTC</td>\n",
       "      <td>4.50</td>\n",
       "      <td>0</td>\n",
       "      <td>-74.003534</td>\n",
       "      <td>40.726936</td>\n",
       "      <td>-73.995011</td>\n",
       "      <td>40.739760</td>\n",
       "      <td>1</td>\n",
       "      <td>1.596587</td>\n",
       "    </tr>\n",
       "    <tr>\n",
       "      <th>26</th>\n",
       "      <td>2010-04-11 21:38:28 UTC</td>\n",
       "      <td>7.30</td>\n",
       "      <td>0</td>\n",
       "      <td>-73.957105</td>\n",
       "      <td>40.772402</td>\n",
       "      <td>-73.984277</td>\n",
       "      <td>40.767459</td>\n",
       "      <td>1</td>\n",
       "      <td>2.353299</td>\n",
       "    </tr>\n",
       "    <tr>\n",
       "      <th>27</th>\n",
       "      <td>2010-04-22 23:36:50 UTC</td>\n",
       "      <td>36.19</td>\n",
       "      <td>1</td>\n",
       "      <td>-73.997149</td>\n",
       "      <td>40.722444</td>\n",
       "      <td>-73.904307</td>\n",
       "      <td>40.887070</td>\n",
       "      <td>1</td>\n",
       "      <td>19.903709</td>\n",
       "    </tr>\n",
       "    <tr>\n",
       "      <th>28</th>\n",
       "      <td>2010-04-23 19:11:42 UTC</td>\n",
       "      <td>8.50</td>\n",
       "      <td>0</td>\n",
       "      <td>-73.986207</td>\n",
       "      <td>40.726464</td>\n",
       "      <td>-73.999319</td>\n",
       "      <td>40.740836</td>\n",
       "      <td>2</td>\n",
       "      <td>1.942799</td>\n",
       "    </tr>\n",
       "    <tr>\n",
       "      <th>29</th>\n",
       "      <td>2010-04-20 22:21:56 UTC</td>\n",
       "      <td>3.70</td>\n",
       "      <td>0</td>\n",
       "      <td>-73.959061</td>\n",
       "      <td>40.771894</td>\n",
       "      <td>-73.955128</td>\n",
       "      <td>40.768903</td>\n",
       "      <td>2</td>\n",
       "      <td>0.469370</td>\n",
       "    </tr>\n",
       "    <tr>\n",
       "      <th>...</th>\n",
       "      <td>...</td>\n",
       "      <td>...</td>\n",
       "      <td>...</td>\n",
       "      <td>...</td>\n",
       "      <td>...</td>\n",
       "      <td>...</td>\n",
       "      <td>...</td>\n",
       "      <td>...</td>\n",
       "      <td>...</td>\n",
       "    </tr>\n",
       "    <tr>\n",
       "      <th>119970</th>\n",
       "      <td>2010-04-11 15:21:20 UTC</td>\n",
       "      <td>4.50</td>\n",
       "      <td>0</td>\n",
       "      <td>-73.964143</td>\n",
       "      <td>40.756354</td>\n",
       "      <td>-73.967321</td>\n",
       "      <td>40.760615</td>\n",
       "      <td>1</td>\n",
       "      <td>0.544184</td>\n",
       "    </tr>\n",
       "    <tr>\n",
       "      <th>119971</th>\n",
       "      <td>2010-04-15 23:16:04 UTC</td>\n",
       "      <td>18.10</td>\n",
       "      <td>1</td>\n",
       "      <td>-73.986180</td>\n",
       "      <td>40.762140</td>\n",
       "      <td>-73.959423</td>\n",
       "      <td>40.716241</td>\n",
       "      <td>1</td>\n",
       "      <td>5.579428</td>\n",
       "    </tr>\n",
       "    <tr>\n",
       "      <th>119972</th>\n",
       "      <td>2010-04-23 07:08:53 UTC</td>\n",
       "      <td>4.50</td>\n",
       "      <td>0</td>\n",
       "      <td>-73.986536</td>\n",
       "      <td>40.770949</td>\n",
       "      <td>-73.980884</td>\n",
       "      <td>40.761569</td>\n",
       "      <td>1</td>\n",
       "      <td>1.146489</td>\n",
       "    </tr>\n",
       "    <tr>\n",
       "      <th>119973</th>\n",
       "      <td>2010-04-18 02:00:11 UTC</td>\n",
       "      <td>14.10</td>\n",
       "      <td>1</td>\n",
       "      <td>-73.996193</td>\n",
       "      <td>40.723807</td>\n",
       "      <td>-73.946315</td>\n",
       "      <td>40.772741</td>\n",
       "      <td>1</td>\n",
       "      <td>6.874670</td>\n",
       "    </tr>\n",
       "    <tr>\n",
       "      <th>119974</th>\n",
       "      <td>2010-04-17 06:14:00 UTC</td>\n",
       "      <td>11.30</td>\n",
       "      <td>1</td>\n",
       "      <td>-73.952137</td>\n",
       "      <td>40.781358</td>\n",
       "      <td>-73.994462</td>\n",
       "      <td>40.750212</td>\n",
       "      <td>1</td>\n",
       "      <td>4.969905</td>\n",
       "    </tr>\n",
       "    <tr>\n",
       "      <th>119975</th>\n",
       "      <td>2010-04-13 17:40:09 UTC</td>\n",
       "      <td>15.70</td>\n",
       "      <td>1</td>\n",
       "      <td>-74.006285</td>\n",
       "      <td>40.704485</td>\n",
       "      <td>-73.987939</td>\n",
       "      <td>40.749966</td>\n",
       "      <td>3</td>\n",
       "      <td>5.288270</td>\n",
       "    </tr>\n",
       "    <tr>\n",
       "      <th>119976</th>\n",
       "      <td>2010-04-20 20:04:15 UTC</td>\n",
       "      <td>4.10</td>\n",
       "      <td>0</td>\n",
       "      <td>-73.961503</td>\n",
       "      <td>40.769702</td>\n",
       "      <td>-73.981494</td>\n",
       "      <td>40.751167</td>\n",
       "      <td>1</td>\n",
       "      <td>2.661324</td>\n",
       "    </tr>\n",
       "    <tr>\n",
       "      <th>119977</th>\n",
       "      <td>2010-04-13 06:30:42 UTC</td>\n",
       "      <td>6.90</td>\n",
       "      <td>0</td>\n",
       "      <td>-73.982659</td>\n",
       "      <td>40.777239</td>\n",
       "      <td>-73.981847</td>\n",
       "      <td>40.752370</td>\n",
       "      <td>1</td>\n",
       "      <td>2.766152</td>\n",
       "    </tr>\n",
       "    <tr>\n",
       "      <th>119978</th>\n",
       "      <td>2010-04-11 20:35:50 UTC</td>\n",
       "      <td>9.70</td>\n",
       "      <td>0</td>\n",
       "      <td>-73.977144</td>\n",
       "      <td>40.752310</td>\n",
       "      <td>-73.977523</td>\n",
       "      <td>40.782725</td>\n",
       "      <td>1</td>\n",
       "      <td>3.382144</td>\n",
       "    </tr>\n",
       "    <tr>\n",
       "      <th>119979</th>\n",
       "      <td>2010-04-21 10:55:56 UTC</td>\n",
       "      <td>5.30</td>\n",
       "      <td>0</td>\n",
       "      <td>-73.974482</td>\n",
       "      <td>40.793183</td>\n",
       "      <td>-73.989027</td>\n",
       "      <td>40.777070</td>\n",
       "      <td>1</td>\n",
       "      <td>2.170194</td>\n",
       "    </tr>\n",
       "    <tr>\n",
       "      <th>119980</th>\n",
       "      <td>2010-04-21 05:40:00 UTC</td>\n",
       "      <td>8.90</td>\n",
       "      <td>0</td>\n",
       "      <td>-73.946662</td>\n",
       "      <td>40.747853</td>\n",
       "      <td>-73.917117</td>\n",
       "      <td>40.778965</td>\n",
       "      <td>1</td>\n",
       "      <td>4.261421</td>\n",
       "    </tr>\n",
       "    <tr>\n",
       "      <th>119981</th>\n",
       "      <td>2010-04-22 13:07:57 UTC</td>\n",
       "      <td>7.30</td>\n",
       "      <td>0</td>\n",
       "      <td>-74.005559</td>\n",
       "      <td>40.750917</td>\n",
       "      <td>-73.989356</td>\n",
       "      <td>40.753374</td>\n",
       "      <td>1</td>\n",
       "      <td>1.391930</td>\n",
       "    </tr>\n",
       "    <tr>\n",
       "      <th>119982</th>\n",
       "      <td>2010-04-21 17:33:42 UTC</td>\n",
       "      <td>4.10</td>\n",
       "      <td>0</td>\n",
       "      <td>-73.978169</td>\n",
       "      <td>40.783951</td>\n",
       "      <td>-73.980991</td>\n",
       "      <td>40.788380</td>\n",
       "      <td>1</td>\n",
       "      <td>0.546797</td>\n",
       "    </tr>\n",
       "    <tr>\n",
       "      <th>119983</th>\n",
       "      <td>2010-04-21 21:07:20 UTC</td>\n",
       "      <td>4.50</td>\n",
       "      <td>0</td>\n",
       "      <td>-73.988685</td>\n",
       "      <td>40.722731</td>\n",
       "      <td>-74.001350</td>\n",
       "      <td>40.726535</td>\n",
       "      <td>1</td>\n",
       "      <td>1.148037</td>\n",
       "    </tr>\n",
       "    <tr>\n",
       "      <th>119984</th>\n",
       "      <td>2010-04-16 17:34:32 UTC</td>\n",
       "      <td>5.30</td>\n",
       "      <td>0</td>\n",
       "      <td>-74.002273</td>\n",
       "      <td>40.724795</td>\n",
       "      <td>-74.007664</td>\n",
       "      <td>40.732142</td>\n",
       "      <td>1</td>\n",
       "      <td>0.934755</td>\n",
       "    </tr>\n",
       "    <tr>\n",
       "      <th>119985</th>\n",
       "      <td>2010-04-12 16:22:55 UTC</td>\n",
       "      <td>7.70</td>\n",
       "      <td>0</td>\n",
       "      <td>-73.961634</td>\n",
       "      <td>40.798720</td>\n",
       "      <td>-73.946877</td>\n",
       "      <td>40.819370</td>\n",
       "      <td>2</td>\n",
       "      <td>2.610546</td>\n",
       "    </tr>\n",
       "    <tr>\n",
       "      <th>119986</th>\n",
       "      <td>2010-04-23 23:55:34 UTC</td>\n",
       "      <td>5.70</td>\n",
       "      <td>0</td>\n",
       "      <td>-74.003669</td>\n",
       "      <td>40.722176</td>\n",
       "      <td>-73.999555</td>\n",
       "      <td>40.734090</td>\n",
       "      <td>1</td>\n",
       "      <td>1.369383</td>\n",
       "    </tr>\n",
       "    <tr>\n",
       "      <th>119987</th>\n",
       "      <td>2010-04-12 10:26:35 UTC</td>\n",
       "      <td>4.50</td>\n",
       "      <td>0</td>\n",
       "      <td>-73.955447</td>\n",
       "      <td>40.779445</td>\n",
       "      <td>-73.946387</td>\n",
       "      <td>40.772211</td>\n",
       "      <td>1</td>\n",
       "      <td>1.108621</td>\n",
       "    </tr>\n",
       "    <tr>\n",
       "      <th>119988</th>\n",
       "      <td>2010-04-11 12:41:49 UTC</td>\n",
       "      <td>29.87</td>\n",
       "      <td>1</td>\n",
       "      <td>-73.997168</td>\n",
       "      <td>40.753913</td>\n",
       "      <td>-73.870607</td>\n",
       "      <td>40.773896</td>\n",
       "      <td>1</td>\n",
       "      <td>10.888078</td>\n",
       "    </tr>\n",
       "    <tr>\n",
       "      <th>119989</th>\n",
       "      <td>2010-04-17 19:19:19 UTC</td>\n",
       "      <td>11.70</td>\n",
       "      <td>1</td>\n",
       "      <td>-74.001573</td>\n",
       "      <td>40.727515</td>\n",
       "      <td>-73.967402</td>\n",
       "      <td>40.763441</td>\n",
       "      <td>1</td>\n",
       "      <td>4.923930</td>\n",
       "    </tr>\n",
       "    <tr>\n",
       "      <th>119990</th>\n",
       "      <td>2010-04-18 14:59:44 UTC</td>\n",
       "      <td>7.70</td>\n",
       "      <td>0</td>\n",
       "      <td>-73.973886</td>\n",
       "      <td>40.794519</td>\n",
       "      <td>-73.988256</td>\n",
       "      <td>40.774526</td>\n",
       "      <td>1</td>\n",
       "      <td>2.531014</td>\n",
       "    </tr>\n",
       "    <tr>\n",
       "      <th>119991</th>\n",
       "      <td>2010-04-12 16:43:37 UTC</td>\n",
       "      <td>11.30</td>\n",
       "      <td>1</td>\n",
       "      <td>-73.975583</td>\n",
       "      <td>40.760748</td>\n",
       "      <td>-73.984528</td>\n",
       "      <td>40.742072</td>\n",
       "      <td>1</td>\n",
       "      <td>2.209147</td>\n",
       "    </tr>\n",
       "    <tr>\n",
       "      <th>119992</th>\n",
       "      <td>2010-04-16 08:39:43 UTC</td>\n",
       "      <td>5.70</td>\n",
       "      <td>0</td>\n",
       "      <td>-73.971502</td>\n",
       "      <td>40.795044</td>\n",
       "      <td>-73.971776</td>\n",
       "      <td>40.786250</td>\n",
       "      <td>1</td>\n",
       "      <td>0.978120</td>\n",
       "    </tr>\n",
       "    <tr>\n",
       "      <th>119993</th>\n",
       "      <td>2010-04-12 11:38:57 UTC</td>\n",
       "      <td>5.30</td>\n",
       "      <td>0</td>\n",
       "      <td>-73.953750</td>\n",
       "      <td>40.771098</td>\n",
       "      <td>-73.962283</td>\n",
       "      <td>40.774547</td>\n",
       "      <td>1</td>\n",
       "      <td>0.814491</td>\n",
       "    </tr>\n",
       "    <tr>\n",
       "      <th>119994</th>\n",
       "      <td>2010-04-18 21:42:38 UTC</td>\n",
       "      <td>8.50</td>\n",
       "      <td>0</td>\n",
       "      <td>-73.994460</td>\n",
       "      <td>40.754325</td>\n",
       "      <td>-73.967214</td>\n",
       "      <td>40.760603</td>\n",
       "      <td>1</td>\n",
       "      <td>2.398701</td>\n",
       "    </tr>\n",
       "    <tr>\n",
       "      <th>119995</th>\n",
       "      <td>2010-04-18 14:33:03 UTC</td>\n",
       "      <td>15.30</td>\n",
       "      <td>1</td>\n",
       "      <td>-73.955857</td>\n",
       "      <td>40.784590</td>\n",
       "      <td>-73.981941</td>\n",
       "      <td>40.736789</td>\n",
       "      <td>1</td>\n",
       "      <td>5.751348</td>\n",
       "    </tr>\n",
       "    <tr>\n",
       "      <th>119996</th>\n",
       "      <td>2010-04-23 10:27:48 UTC</td>\n",
       "      <td>15.30</td>\n",
       "      <td>1</td>\n",
       "      <td>-73.996329</td>\n",
       "      <td>40.772727</td>\n",
       "      <td>-74.049890</td>\n",
       "      <td>40.740413</td>\n",
       "      <td>1</td>\n",
       "      <td>5.767444</td>\n",
       "    </tr>\n",
       "    <tr>\n",
       "      <th>119997</th>\n",
       "      <td>2010-04-18 18:50:40 UTC</td>\n",
       "      <td>12.50</td>\n",
       "      <td>1</td>\n",
       "      <td>-73.988574</td>\n",
       "      <td>40.749772</td>\n",
       "      <td>-74.011541</td>\n",
       "      <td>40.707799</td>\n",
       "      <td>3</td>\n",
       "      <td>5.052523</td>\n",
       "    </tr>\n",
       "    <tr>\n",
       "      <th>119998</th>\n",
       "      <td>2010-04-13 08:14:44 UTC</td>\n",
       "      <td>4.90</td>\n",
       "      <td>0</td>\n",
       "      <td>-74.004449</td>\n",
       "      <td>40.724529</td>\n",
       "      <td>-73.992697</td>\n",
       "      <td>40.730765</td>\n",
       "      <td>1</td>\n",
       "      <td>1.208923</td>\n",
       "    </tr>\n",
       "    <tr>\n",
       "      <th>119999</th>\n",
       "      <td>2010-04-17 16:00:14 UTC</td>\n",
       "      <td>5.30</td>\n",
       "      <td>0</td>\n",
       "      <td>-73.955415</td>\n",
       "      <td>40.771920</td>\n",
       "      <td>-73.967623</td>\n",
       "      <td>40.763015</td>\n",
       "      <td>3</td>\n",
       "      <td>1.427399</td>\n",
       "    </tr>\n",
       "  </tbody>\n",
       "</table>\n",
       "<p>120000 rows × 9 columns</p>\n",
       "</div>"
      ],
      "text/plain": [
       "                pickup_datetime  fare_amount  fare_class  pickup_longitude  \\\n",
       "0       2010-04-19 08:17:56 UTC         6.50           0        -73.992365   \n",
       "1       2010-04-17 15:43:53 UTC         6.90           0        -73.990078   \n",
       "2       2010-04-17 11:23:26 UTC        10.10           1        -73.994149   \n",
       "3       2010-04-11 21:25:03 UTC         8.90           0        -73.990485   \n",
       "4       2010-04-17 02:19:01 UTC        19.70           1        -73.990976   \n",
       "5       2010-04-22 08:39:47 UTC         8.10           0        -73.980481   \n",
       "6       2010-04-23 19:27:00 UTC         4.90           0        -73.959535   \n",
       "7       2010-04-15 09:03:37 UTC         4.90           0        -74.002601   \n",
       "8       2010-04-20 08:58:00 UTC         2.90           0        -74.014005   \n",
       "9       2010-04-16 18:50:16 UTC         6.10           0        -73.977689   \n",
       "10      2010-04-22 22:26:23 UTC         7.30           0        -74.007913   \n",
       "11      2010-04-15 17:40:18 UTC         3.70           0        -73.954965   \n",
       "12      2010-04-23 12:12:08 UTC        17.30           1        -73.997107   \n",
       "13      2010-04-18 02:35:26 UTC         4.10           0        -73.989126   \n",
       "14      2010-04-21 10:12:59 UTC         6.90           0        -73.990641   \n",
       "15      2010-04-20 23:31:17 UTC         9.30           0        -73.973145   \n",
       "16      2010-04-15 21:54:26 UTC        14.10           1        -74.002233   \n",
       "17      2010-04-15 08:55:51 UTC         5.70           0        -73.961552   \n",
       "18      2010-04-14 23:12:52 UTC         2.90           0        -73.988522   \n",
       "19      2010-04-14 01:22:00 UTC         3.70           0        -73.986130   \n",
       "20      2010-04-20 11:27:29 UTC        36.00           1        -73.874537   \n",
       "21      2010-04-12 09:37:56 UTC        11.30           1        -74.006172   \n",
       "22      2010-04-13 13:55:05 UTC         4.90           0        -73.998762   \n",
       "23      2010-04-20 16:33:00 UTC        14.50           1        -73.987602   \n",
       "24      2010-04-21 14:03:52 UTC         4.90           0        -73.957767   \n",
       "25      2010-04-24 09:16:19 UTC         4.50           0        -74.003534   \n",
       "26      2010-04-11 21:38:28 UTC         7.30           0        -73.957105   \n",
       "27      2010-04-22 23:36:50 UTC        36.19           1        -73.997149   \n",
       "28      2010-04-23 19:11:42 UTC         8.50           0        -73.986207   \n",
       "29      2010-04-20 22:21:56 UTC         3.70           0        -73.959061   \n",
       "...                         ...          ...         ...               ...   \n",
       "119970  2010-04-11 15:21:20 UTC         4.50           0        -73.964143   \n",
       "119971  2010-04-15 23:16:04 UTC        18.10           1        -73.986180   \n",
       "119972  2010-04-23 07:08:53 UTC         4.50           0        -73.986536   \n",
       "119973  2010-04-18 02:00:11 UTC        14.10           1        -73.996193   \n",
       "119974  2010-04-17 06:14:00 UTC        11.30           1        -73.952137   \n",
       "119975  2010-04-13 17:40:09 UTC        15.70           1        -74.006285   \n",
       "119976  2010-04-20 20:04:15 UTC         4.10           0        -73.961503   \n",
       "119977  2010-04-13 06:30:42 UTC         6.90           0        -73.982659   \n",
       "119978  2010-04-11 20:35:50 UTC         9.70           0        -73.977144   \n",
       "119979  2010-04-21 10:55:56 UTC         5.30           0        -73.974482   \n",
       "119980  2010-04-21 05:40:00 UTC         8.90           0        -73.946662   \n",
       "119981  2010-04-22 13:07:57 UTC         7.30           0        -74.005559   \n",
       "119982  2010-04-21 17:33:42 UTC         4.10           0        -73.978169   \n",
       "119983  2010-04-21 21:07:20 UTC         4.50           0        -73.988685   \n",
       "119984  2010-04-16 17:34:32 UTC         5.30           0        -74.002273   \n",
       "119985  2010-04-12 16:22:55 UTC         7.70           0        -73.961634   \n",
       "119986  2010-04-23 23:55:34 UTC         5.70           0        -74.003669   \n",
       "119987  2010-04-12 10:26:35 UTC         4.50           0        -73.955447   \n",
       "119988  2010-04-11 12:41:49 UTC        29.87           1        -73.997168   \n",
       "119989  2010-04-17 19:19:19 UTC        11.70           1        -74.001573   \n",
       "119990  2010-04-18 14:59:44 UTC         7.70           0        -73.973886   \n",
       "119991  2010-04-12 16:43:37 UTC        11.30           1        -73.975583   \n",
       "119992  2010-04-16 08:39:43 UTC         5.70           0        -73.971502   \n",
       "119993  2010-04-12 11:38:57 UTC         5.30           0        -73.953750   \n",
       "119994  2010-04-18 21:42:38 UTC         8.50           0        -73.994460   \n",
       "119995  2010-04-18 14:33:03 UTC        15.30           1        -73.955857   \n",
       "119996  2010-04-23 10:27:48 UTC        15.30           1        -73.996329   \n",
       "119997  2010-04-18 18:50:40 UTC        12.50           1        -73.988574   \n",
       "119998  2010-04-13 08:14:44 UTC         4.90           0        -74.004449   \n",
       "119999  2010-04-17 16:00:14 UTC         5.30           0        -73.955415   \n",
       "\n",
       "        pickup_latitude  dropoff_longitude  dropoff_latitude  passenger_count  \\\n",
       "0             40.730521         -73.975499         40.744746                1   \n",
       "1             40.740558         -73.974232         40.744114                1   \n",
       "2             40.751118         -73.960064         40.766235                2   \n",
       "3             40.756422         -73.971205         40.748192                1   \n",
       "4             40.734202         -73.905956         40.743115                1   \n",
       "5             40.748995         -73.983508         40.766459                1   \n",
       "6             40.779582         -73.947185         40.780223                1   \n",
       "7             40.739419         -73.997912         40.730292                1   \n",
       "8             40.704058         -74.013202         40.702877                1   \n",
       "9             40.784175         -73.988639         40.778669                1   \n",
       "10            40.740409         -73.985561         40.752076                1   \n",
       "11            40.765030         -73.962556         40.766464                1   \n",
       "12            40.722116         -73.976628         40.775252                1   \n",
       "13            40.730024         -73.981524         40.732671                1   \n",
       "14            40.755181         -73.973317         40.763224                2   \n",
       "15            40.761542         -73.940974         40.792710                1   \n",
       "16            40.734468         -73.961872         40.764459                2   \n",
       "17            40.768434         -73.969448         40.763188                1   \n",
       "18            40.741219         -73.983734         40.739019                1   \n",
       "19            40.722437         -73.980585         40.730057                5   \n",
       "20            40.774075         -73.985187         40.760783                1   \n",
       "21            40.717227         -73.979662         40.760502                1   \n",
       "22            40.734666         -73.988645         40.735559                1   \n",
       "23            40.755443         -74.010645         40.702258                2   \n",
       "24            40.773552         -73.965617         40.765570                1   \n",
       "25            40.726936         -73.995011         40.739760                1   \n",
       "26            40.772402         -73.984277         40.767459                1   \n",
       "27            40.722444         -73.904307         40.887070                1   \n",
       "28            40.726464         -73.999319         40.740836                2   \n",
       "29            40.771894         -73.955128         40.768903                2   \n",
       "...                 ...                ...               ...              ...   \n",
       "119970        40.756354         -73.967321         40.760615                1   \n",
       "119971        40.762140         -73.959423         40.716241                1   \n",
       "119972        40.770949         -73.980884         40.761569                1   \n",
       "119973        40.723807         -73.946315         40.772741                1   \n",
       "119974        40.781358         -73.994462         40.750212                1   \n",
       "119975        40.704485         -73.987939         40.749966                3   \n",
       "119976        40.769702         -73.981494         40.751167                1   \n",
       "119977        40.777239         -73.981847         40.752370                1   \n",
       "119978        40.752310         -73.977523         40.782725                1   \n",
       "119979        40.793183         -73.989027         40.777070                1   \n",
       "119980        40.747853         -73.917117         40.778965                1   \n",
       "119981        40.750917         -73.989356         40.753374                1   \n",
       "119982        40.783951         -73.980991         40.788380                1   \n",
       "119983        40.722731         -74.001350         40.726535                1   \n",
       "119984        40.724795         -74.007664         40.732142                1   \n",
       "119985        40.798720         -73.946877         40.819370                2   \n",
       "119986        40.722176         -73.999555         40.734090                1   \n",
       "119987        40.779445         -73.946387         40.772211                1   \n",
       "119988        40.753913         -73.870607         40.773896                1   \n",
       "119989        40.727515         -73.967402         40.763441                1   \n",
       "119990        40.794519         -73.988256         40.774526                1   \n",
       "119991        40.760748         -73.984528         40.742072                1   \n",
       "119992        40.795044         -73.971776         40.786250                1   \n",
       "119993        40.771098         -73.962283         40.774547                1   \n",
       "119994        40.754325         -73.967214         40.760603                1   \n",
       "119995        40.784590         -73.981941         40.736789                1   \n",
       "119996        40.772727         -74.049890         40.740413                1   \n",
       "119997        40.749772         -74.011541         40.707799                3   \n",
       "119998        40.724529         -73.992697         40.730765                1   \n",
       "119999        40.771920         -73.967623         40.763015                3   \n",
       "\n",
       "         disanceK  \n",
       "0        2.126312  \n",
       "1        1.392307  \n",
       "2        3.326763  \n",
       "3        1.864129  \n",
       "4        7.231321  \n",
       "5        1.958574  \n",
       "6        1.042304  \n",
       "7        1.089064  \n",
       "8        0.147740  \n",
       "9        1.106731  \n",
       "10       2.286620  \n",
       "11       0.658880  \n",
       "12       6.155152  \n",
       "13       0.704939  \n",
       "14       1.711402  \n",
       "15       4.398790  \n",
       "16       4.762431  \n",
       "17       0.884574  \n",
       "18       0.471769  \n",
       "19       0.967606  \n",
       "20       9.434908  \n",
       "21       5.305046  \n",
       "22       0.858184  \n",
       "23       6.224503  \n",
       "24       1.106694  \n",
       "25       1.596587  \n",
       "26       2.353299  \n",
       "27      19.903709  \n",
       "28       1.942799  \n",
       "29       0.469370  \n",
       "...           ...  \n",
       "119970   0.544184  \n",
       "119971   5.579428  \n",
       "119972   1.146489  \n",
       "119973   6.874670  \n",
       "119974   4.969905  \n",
       "119975   5.288270  \n",
       "119976   2.661324  \n",
       "119977   2.766152  \n",
       "119978   3.382144  \n",
       "119979   2.170194  \n",
       "119980   4.261421  \n",
       "119981   1.391930  \n",
       "119982   0.546797  \n",
       "119983   1.148037  \n",
       "119984   0.934755  \n",
       "119985   2.610546  \n",
       "119986   1.369383  \n",
       "119987   1.108621  \n",
       "119988  10.888078  \n",
       "119989   4.923930  \n",
       "119990   2.531014  \n",
       "119991   2.209147  \n",
       "119992   0.978120  \n",
       "119993   0.814491  \n",
       "119994   2.398701  \n",
       "119995   5.751348  \n",
       "119996   5.767444  \n",
       "119997   5.052523  \n",
       "119998   1.208923  \n",
       "119999   1.427399  \n",
       "\n",
       "[120000 rows x 9 columns]"
      ]
     },
     "execution_count": 128,
     "metadata": {},
     "output_type": "execute_result"
    }
   ],
   "source": [
    "df"
   ]
  },
  {
   "cell_type": "code",
   "execution_count": 129,
   "metadata": {},
   "outputs": [
    {
     "name": "stdout",
     "output_type": "stream",
     "text": [
      "<class 'pandas.core.frame.DataFrame'>\n",
      "RangeIndex: 120000 entries, 0 to 119999\n",
      "Data columns (total 9 columns):\n",
      "pickup_datetime      120000 non-null object\n",
      "fare_amount          120000 non-null float64\n",
      "fare_class           120000 non-null int64\n",
      "pickup_longitude     120000 non-null float64\n",
      "pickup_latitude      120000 non-null float64\n",
      "dropoff_longitude    120000 non-null float64\n",
      "dropoff_latitude     120000 non-null float64\n",
      "passenger_count      120000 non-null int64\n",
      "disanceK             120000 non-null float64\n",
      "dtypes: float64(6), int64(2), object(1)\n",
      "memory usage: 8.2+ MB\n"
     ]
    }
   ],
   "source": [
    "# working to formate the datetime for our use\n",
    "df.info()"
   ]
  },
  {
   "cell_type": "code",
   "execution_count": 130,
   "metadata": {},
   "outputs": [],
   "source": [
    "# changing the dtetime colums from string to datetime object type\n",
    "df['pickup_datetime'] = pd.to_datetime(df['pickup_datetime'])"
   ]
  },
  {
   "cell_type": "code",
   "execution_count": 131,
   "metadata": {},
   "outputs": [
    {
     "name": "stdout",
     "output_type": "stream",
     "text": [
      "<class 'pandas.core.frame.DataFrame'>\n",
      "RangeIndex: 120000 entries, 0 to 119999\n",
      "Data columns (total 9 columns):\n",
      "pickup_datetime      120000 non-null datetime64[ns, UTC]\n",
      "fare_amount          120000 non-null float64\n",
      "fare_class           120000 non-null int64\n",
      "pickup_longitude     120000 non-null float64\n",
      "pickup_latitude      120000 non-null float64\n",
      "dropoff_longitude    120000 non-null float64\n",
      "dropoff_latitude     120000 non-null float64\n",
      "passenger_count      120000 non-null int64\n",
      "disanceK             120000 non-null float64\n",
      "dtypes: datetime64[ns, UTC](1), float64(6), int64(2)\n",
      "memory usage: 8.2 MB\n"
     ]
    }
   ],
   "source": [
    "df.info()"
   ]
  },
  {
   "cell_type": "code",
   "execution_count": 132,
   "metadata": {},
   "outputs": [],
   "source": [
    "myTime = df['pickup_datetime'][0]"
   ]
  },
  {
   "cell_type": "code",
   "execution_count": 133,
   "metadata": {},
   "outputs": [],
   "source": [
    "# the time is presented in UTC time, thereforewe have a 4 hours diff between the presented time and the actual NYC time\n",
    "df['EDTdate'] = df['pickup_datetime'] - pd.Timedelta(hours=4)"
   ]
  },
  {
   "cell_type": "code",
   "execution_count": 134,
   "metadata": {},
   "outputs": [],
   "source": [
    "#add the actual hour\n",
    "df['hour'] = df['EDTdate'].dt.hour"
   ]
  },
  {
   "cell_type": "code",
   "execution_count": 135,
   "metadata": {},
   "outputs": [],
   "source": [
    "# add AM/PM\n",
    "df['AM/PM'] = np.where(df['hour']<12,'AM','PM') # if the condition is true, the first argument will be returned. else, the secod"
   ]
  },
  {
   "cell_type": "code",
   "execution_count": 136,
   "metadata": {},
   "outputs": [],
   "source": [
    "# add weekday\n",
    "df['Weekday'] = df['EDTdate'].dt.strftime(\"%a\")"
   ]
  },
  {
   "cell_type": "code",
   "execution_count": 137,
   "metadata": {},
   "outputs": [
    {
     "data": {
      "text/html": [
       "<div>\n",
       "<style scoped>\n",
       "    .dataframe tbody tr th:only-of-type {\n",
       "        vertical-align: middle;\n",
       "    }\n",
       "\n",
       "    .dataframe tbody tr th {\n",
       "        vertical-align: top;\n",
       "    }\n",
       "\n",
       "    .dataframe thead th {\n",
       "        text-align: right;\n",
       "    }\n",
       "</style>\n",
       "<table border=\"1\" class=\"dataframe\">\n",
       "  <thead>\n",
       "    <tr style=\"text-align: right;\">\n",
       "      <th></th>\n",
       "      <th>pickup_datetime</th>\n",
       "      <th>fare_amount</th>\n",
       "      <th>fare_class</th>\n",
       "      <th>pickup_longitude</th>\n",
       "      <th>pickup_latitude</th>\n",
       "      <th>dropoff_longitude</th>\n",
       "      <th>dropoff_latitude</th>\n",
       "      <th>passenger_count</th>\n",
       "      <th>disanceK</th>\n",
       "      <th>EDTdate</th>\n",
       "      <th>hour</th>\n",
       "      <th>AM/PM</th>\n",
       "      <th>Weekday</th>\n",
       "    </tr>\n",
       "  </thead>\n",
       "  <tbody>\n",
       "    <tr>\n",
       "      <th>0</th>\n",
       "      <td>2010-04-19 08:17:56+00:00</td>\n",
       "      <td>6.5</td>\n",
       "      <td>0</td>\n",
       "      <td>-73.992365</td>\n",
       "      <td>40.730521</td>\n",
       "      <td>-73.975499</td>\n",
       "      <td>40.744746</td>\n",
       "      <td>1</td>\n",
       "      <td>2.126312</td>\n",
       "      <td>2010-04-19 04:17:56+00:00</td>\n",
       "      <td>4</td>\n",
       "      <td>AM</td>\n",
       "      <td>Mon</td>\n",
       "    </tr>\n",
       "    <tr>\n",
       "      <th>1</th>\n",
       "      <td>2010-04-17 15:43:53+00:00</td>\n",
       "      <td>6.9</td>\n",
       "      <td>0</td>\n",
       "      <td>-73.990078</td>\n",
       "      <td>40.740558</td>\n",
       "      <td>-73.974232</td>\n",
       "      <td>40.744114</td>\n",
       "      <td>1</td>\n",
       "      <td>1.392307</td>\n",
       "      <td>2010-04-17 11:43:53+00:00</td>\n",
       "      <td>11</td>\n",
       "      <td>AM</td>\n",
       "      <td>Sat</td>\n",
       "    </tr>\n",
       "    <tr>\n",
       "      <th>2</th>\n",
       "      <td>2010-04-17 11:23:26+00:00</td>\n",
       "      <td>10.1</td>\n",
       "      <td>1</td>\n",
       "      <td>-73.994149</td>\n",
       "      <td>40.751118</td>\n",
       "      <td>-73.960064</td>\n",
       "      <td>40.766235</td>\n",
       "      <td>2</td>\n",
       "      <td>3.326763</td>\n",
       "      <td>2010-04-17 07:23:26+00:00</td>\n",
       "      <td>7</td>\n",
       "      <td>AM</td>\n",
       "      <td>Sat</td>\n",
       "    </tr>\n",
       "    <tr>\n",
       "      <th>3</th>\n",
       "      <td>2010-04-11 21:25:03+00:00</td>\n",
       "      <td>8.9</td>\n",
       "      <td>0</td>\n",
       "      <td>-73.990485</td>\n",
       "      <td>40.756422</td>\n",
       "      <td>-73.971205</td>\n",
       "      <td>40.748192</td>\n",
       "      <td>1</td>\n",
       "      <td>1.864129</td>\n",
       "      <td>2010-04-11 17:25:03+00:00</td>\n",
       "      <td>17</td>\n",
       "      <td>PM</td>\n",
       "      <td>Sun</td>\n",
       "    </tr>\n",
       "    <tr>\n",
       "      <th>4</th>\n",
       "      <td>2010-04-17 02:19:01+00:00</td>\n",
       "      <td>19.7</td>\n",
       "      <td>1</td>\n",
       "      <td>-73.990976</td>\n",
       "      <td>40.734202</td>\n",
       "      <td>-73.905956</td>\n",
       "      <td>40.743115</td>\n",
       "      <td>1</td>\n",
       "      <td>7.231321</td>\n",
       "      <td>2010-04-16 22:19:01+00:00</td>\n",
       "      <td>22</td>\n",
       "      <td>PM</td>\n",
       "      <td>Fri</td>\n",
       "    </tr>\n",
       "  </tbody>\n",
       "</table>\n",
       "</div>"
      ],
      "text/plain": [
       "            pickup_datetime  fare_amount  fare_class  pickup_longitude  \\\n",
       "0 2010-04-19 08:17:56+00:00          6.5           0        -73.992365   \n",
       "1 2010-04-17 15:43:53+00:00          6.9           0        -73.990078   \n",
       "2 2010-04-17 11:23:26+00:00         10.1           1        -73.994149   \n",
       "3 2010-04-11 21:25:03+00:00          8.9           0        -73.990485   \n",
       "4 2010-04-17 02:19:01+00:00         19.7           1        -73.990976   \n",
       "\n",
       "   pickup_latitude  dropoff_longitude  dropoff_latitude  passenger_count  \\\n",
       "0        40.730521         -73.975499         40.744746                1   \n",
       "1        40.740558         -73.974232         40.744114                1   \n",
       "2        40.751118         -73.960064         40.766235                2   \n",
       "3        40.756422         -73.971205         40.748192                1   \n",
       "4        40.734202         -73.905956         40.743115                1   \n",
       "\n",
       "   disanceK                   EDTdate  hour AM/PM Weekday  \n",
       "0  2.126312 2010-04-19 04:17:56+00:00     4    AM     Mon  \n",
       "1  1.392307 2010-04-17 11:43:53+00:00    11    AM     Sat  \n",
       "2  3.326763 2010-04-17 07:23:26+00:00     7    AM     Sat  \n",
       "3  1.864129 2010-04-11 17:25:03+00:00    17    PM     Sun  \n",
       "4  7.231321 2010-04-16 22:19:01+00:00    22    PM     Fri  "
      ]
     },
     "execution_count": 137,
     "metadata": {},
     "output_type": "execute_result"
    }
   ],
   "source": [
    "df.head()"
   ]
  },
  {
   "cell_type": "code",
   "execution_count": null,
   "metadata": {},
   "outputs": [],
   "source": []
  },
  {
   "cell_type": "code",
   "execution_count": null,
   "metadata": {},
   "outputs": [],
   "source": []
  },
  {
   "cell_type": "markdown",
   "metadata": {},
   "source": [
    "## Part2- Categorical and Contineous features"
   ]
  },
  {
   "cell_type": "code",
   "execution_count": 138,
   "metadata": {},
   "outputs": [],
   "source": [
    "# we decide which columns will be categorical and which will be contineous\n",
    "categCols = ['hour', 'AM/PM', 'Weekday']\n",
    "conteCols = ['pickup_longitude', 'pickup_latitude', 'dropoff_longitude', 'dropoff_latitude', 'passenger_count', 'disanceK']"
   ]
  },
  {
   "cell_type": "code",
   "execution_count": 209,
   "metadata": {},
   "outputs": [],
   "source": [
    "# choosing our labels\n",
    "y_col = ['fare_amount']"
   ]
  },
  {
   "cell_type": "code",
   "execution_count": 140,
   "metadata": {},
   "outputs": [
    {
     "data": {
      "text/plain": [
       "pickup_datetime      datetime64[ns, UTC]\n",
       "fare_amount                      float64\n",
       "fare_class                         int64\n",
       "pickup_longitude                 float64\n",
       "pickup_latitude                  float64\n",
       "dropoff_longitude                float64\n",
       "dropoff_latitude                 float64\n",
       "passenger_count                    int64\n",
       "disanceK                         float64\n",
       "EDTdate              datetime64[ns, UTC]\n",
       "hour                               int64\n",
       "AM/PM                             object\n",
       "Weekday                           object\n",
       "dtype: object"
      ]
     },
     "execution_count": 140,
     "metadata": {},
     "output_type": "execute_result"
    }
   ],
   "source": [
    "df.dtypes"
   ]
  },
  {
   "cell_type": "code",
   "execution_count": 141,
   "metadata": {},
   "outputs": [],
   "source": [
    "# change the type of the category columns into category type\n",
    "for cat in categCols:\n",
    "    df[cat] = df[cat].astype('category')"
   ]
  },
  {
   "cell_type": "code",
   "execution_count": 142,
   "metadata": {},
   "outputs": [
    {
     "data": {
      "text/plain": [
       "pickup_datetime      datetime64[ns, UTC]\n",
       "fare_amount                      float64\n",
       "fare_class                         int64\n",
       "pickup_longitude                 float64\n",
       "pickup_latitude                  float64\n",
       "dropoff_longitude                float64\n",
       "dropoff_latitude                 float64\n",
       "passenger_count                    int64\n",
       "disanceK                         float64\n",
       "EDTdate              datetime64[ns, UTC]\n",
       "hour                            category\n",
       "AM/PM                           category\n",
       "Weekday                         category\n",
       "dtype: object"
      ]
     },
     "execution_count": 142,
     "metadata": {},
     "output_type": "execute_result"
    }
   ],
   "source": [
    "df.dtypes"
   ]
  },
  {
   "cell_type": "code",
   "execution_count": 143,
   "metadata": {},
   "outputs": [
    {
     "data": {
      "text/plain": [
       "0     4\n",
       "1    11\n",
       "2     7\n",
       "3    17\n",
       "4    22\n",
       "Name: hour, dtype: category\n",
       "Categories (24, int64): [0, 1, 2, 3, ..., 20, 21, 22, 23]"
      ]
     },
     "execution_count": 143,
     "metadata": {},
     "output_type": "execute_result"
    }
   ],
   "source": [
    "df.hour.head()"
   ]
  },
  {
   "cell_type": "code",
   "execution_count": 144,
   "metadata": {},
   "outputs": [
    {
     "data": {
      "text/plain": [
       "0    AM\n",
       "1    AM\n",
       "2    AM\n",
       "3    PM\n",
       "4    PM\n",
       "Name: AM/PM, dtype: category\n",
       "Categories (2, object): [AM, PM]"
      ]
     },
     "execution_count": 144,
     "metadata": {},
     "output_type": "execute_result"
    }
   ],
   "source": [
    "df['AM/PM'].head()"
   ]
  },
  {
   "cell_type": "code",
   "execution_count": 145,
   "metadata": {},
   "outputs": [
    {
     "data": {
      "text/plain": [
       "Index(['AM', 'PM'], dtype='object')"
      ]
     },
     "execution_count": 145,
     "metadata": {},
     "output_type": "execute_result"
    }
   ],
   "source": [
    "# list all the categories in a specific category column\n",
    "df['AM/PM'].cat.categories"
   ]
  },
  {
   "cell_type": "code",
   "execution_count": 146,
   "metadata": {},
   "outputs": [
    {
     "data": {
      "text/plain": [
       "0         1\n",
       "1         2\n",
       "2         2\n",
       "3         3\n",
       "4         0\n",
       "5         4\n",
       "6         0\n",
       "7         4\n",
       "8         5\n",
       "9         0\n",
       "10        4\n",
       "11        4\n",
       "12        0\n",
       "13        2\n",
       "14        6\n",
       "15        5\n",
       "16        4\n",
       "17        4\n",
       "18        6\n",
       "19        5\n",
       "20        5\n",
       "21        1\n",
       "22        5\n",
       "23        5\n",
       "24        6\n",
       "25        2\n",
       "26        3\n",
       "27        4\n",
       "28        0\n",
       "29        5\n",
       "         ..\n",
       "119970    3\n",
       "119971    4\n",
       "119972    0\n",
       "119973    2\n",
       "119974    2\n",
       "119975    5\n",
       "119976    5\n",
       "119977    5\n",
       "119978    3\n",
       "119979    6\n",
       "119980    6\n",
       "119981    4\n",
       "119982    6\n",
       "119983    6\n",
       "119984    0\n",
       "119985    1\n",
       "119986    0\n",
       "119987    1\n",
       "119988    3\n",
       "119989    2\n",
       "119990    3\n",
       "119991    1\n",
       "119992    0\n",
       "119993    1\n",
       "119994    3\n",
       "119995    3\n",
       "119996    0\n",
       "119997    3\n",
       "119998    5\n",
       "119999    2\n",
       "Length: 120000, dtype: int8"
      ]
     },
     "execution_count": 146,
     "metadata": {},
     "output_type": "execute_result"
    }
   ],
   "source": [
    "# check the numerical value of each of the categories\n",
    "df['Weekday'].cat.codes"
   ]
  },
  {
   "cell_type": "code",
   "execution_count": 147,
   "metadata": {},
   "outputs": [
    {
     "data": {
      "text/plain": [
       "array([1, 2, 2, ..., 3, 5, 2], dtype=int8)"
      ]
     },
     "execution_count": 147,
     "metadata": {},
     "output_type": "execute_result"
    }
   ],
   "source": [
    "# check the numerical value of each of the categories and get it as numpy array\n",
    "df['Weekday'].cat.codes.values"
   ]
  },
  {
   "cell_type": "code",
   "execution_count": 148,
   "metadata": {},
   "outputs": [],
   "source": [
    "# store all the categories codes into nump array\n",
    "hr = df.hour.cat.codes.values\n",
    "ampm = df['AM/PM'].cat.codes.values\n",
    "weekday = df.Weekday.cat.codes.values"
   ]
  },
  {
   "cell_type": "code",
   "execution_count": 149,
   "metadata": {},
   "outputs": [
    {
     "data": {
      "text/plain": [
       "array([ 4, 11,  7, ..., 14,  4, 12], dtype=int8)"
      ]
     },
     "execution_count": 149,
     "metadata": {},
     "output_type": "execute_result"
    }
   ],
   "source": [
    "hr"
   ]
  },
  {
   "cell_type": "code",
   "execution_count": 150,
   "metadata": {},
   "outputs": [
    {
     "data": {
      "text/plain": [
       "array([[ 4,  0,  1],\n",
       "       [11,  0,  2],\n",
       "       [ 7,  0,  2],\n",
       "       ...,\n",
       "       [14,  1,  3],\n",
       "       [ 4,  0,  5],\n",
       "       [12,  1,  2]], dtype=int8)"
      ]
     },
     "execution_count": 150,
     "metadata": {},
     "output_type": "execute_result"
    }
   ],
   "source": [
    "# stack all the categories codes in a 2d matrix where each column is a category\n",
    "cat = np.stack([hr,ampm,weekday], axis=1)\n",
    "cat"
   ]
  },
  {
   "cell_type": "code",
   "execution_count": 151,
   "metadata": {},
   "outputs": [
    {
     "data": {
      "text/plain": [
       "array([[ 4,  0,  1],\n",
       "       [11,  0,  2],\n",
       "       [ 7,  0,  2],\n",
       "       ...,\n",
       "       [14,  1,  3],\n",
       "       [ 4,  0,  5],\n",
       "       [12,  1,  2]], dtype=int8)"
      ]
     },
     "execution_count": 151,
     "metadata": {},
     "output_type": "execute_result"
    }
   ],
   "source": [
    "# we can do all the work to stack the codes in a one line-\n",
    "cat2 = np.stack([df[col].cat.codes.values for col in categCols], axis=1)\n",
    "cat2\n",
    "\n",
    "## still need to define wich columns will be categorical and convert them into categor type"
   ]
  },
  {
   "cell_type": "code",
   "execution_count": 152,
   "metadata": {},
   "outputs": [],
   "source": [
    "# convert the np array into tensor\n",
    "cats = torch.tensor(cat, dtype=torch.int64)"
   ]
  },
  {
   "cell_type": "code",
   "execution_count": 153,
   "metadata": {},
   "outputs": [
    {
     "data": {
      "text/plain": [
       "array([[-73.992365  ,  40.730521  , -73.975499  ,  40.744746  ,\n",
       "          1.        ,   2.12631159],\n",
       "       [-73.990078  ,  40.740558  , -73.974232  ,  40.744114  ,\n",
       "          1.        ,   1.39230687],\n",
       "       [-73.994149  ,  40.751118  , -73.960064  ,  40.766235  ,\n",
       "          2.        ,   3.32676344],\n",
       "       ...,\n",
       "       [-73.988574  ,  40.749772  , -74.011541  ,  40.707799  ,\n",
       "          3.        ,   5.05252282],\n",
       "       [-74.004449  ,  40.724529  , -73.992697  ,  40.730765  ,\n",
       "          1.        ,   1.20892296],\n",
       "       [-73.955415  ,  40.77192   , -73.967623  ,  40.763015  ,\n",
       "          3.        ,   1.42739869]])"
      ]
     },
     "execution_count": 153,
     "metadata": {},
     "output_type": "execute_result"
    }
   ],
   "source": [
    "# do the same for the contineous columns\n",
    "conte = np.stack([df[col].values for col in conteCols], axis=1)\n",
    "conte"
   ]
  },
  {
   "cell_type": "code",
   "execution_count": 154,
   "metadata": {},
   "outputs": [
    {
     "data": {
      "text/plain": [
       "tensor([[-73.9924,  40.7305, -73.9755,  40.7447,   1.0000,   2.1263],\n",
       "        [-73.9901,  40.7406, -73.9742,  40.7441,   1.0000,   1.3923],\n",
       "        [-73.9941,  40.7511, -73.9601,  40.7662,   2.0000,   3.3268],\n",
       "        ...,\n",
       "        [-73.9886,  40.7498, -74.0115,  40.7078,   3.0000,   5.0525],\n",
       "        [-74.0044,  40.7245, -73.9927,  40.7308,   1.0000,   1.2089],\n",
       "        [-73.9554,  40.7719, -73.9676,  40.7630,   3.0000,   1.4274]])"
      ]
     },
     "execution_count": 154,
     "metadata": {},
     "output_type": "execute_result"
    }
   ],
   "source": [
    "# changing the conte array into tensor\n",
    "conte = torch.tensor(conte, dtype=torch.float)\n",
    "conte"
   ]
  },
  {
   "cell_type": "code",
   "execution_count": 155,
   "metadata": {},
   "outputs": [
    {
     "data": {
      "text/plain": [
       "tensor([[ 6.5000],\n",
       "        [ 6.9000],\n",
       "        [10.1000],\n",
       "        ...,\n",
       "        [12.5000],\n",
       "        [ 4.9000],\n",
       "        [ 5.3000]])"
      ]
     },
     "execution_count": 155,
     "metadata": {},
     "output_type": "execute_result"
    }
   ],
   "source": [
    "# changing the labels array into tensor\n",
    "labels = torch.tensor(df[y_col].values, dtype=torch.float)\n",
    "labels"
   ]
  },
  {
   "cell_type": "code",
   "execution_count": 156,
   "metadata": {},
   "outputs": [
    {
     "data": {
      "text/plain": [
       "torch.Size([120000, 3])"
      ]
     },
     "execution_count": 156,
     "metadata": {},
     "output_type": "execute_result"
    }
   ],
   "source": [
    "cats.shape"
   ]
  },
  {
   "cell_type": "code",
   "execution_count": 157,
   "metadata": {},
   "outputs": [
    {
     "data": {
      "text/plain": [
       "torch.Size([120000, 6])"
      ]
     },
     "execution_count": 157,
     "metadata": {},
     "output_type": "execute_result"
    }
   ],
   "source": [
    "conte.shape"
   ]
  },
  {
   "cell_type": "code",
   "execution_count": 158,
   "metadata": {},
   "outputs": [
    {
     "data": {
      "text/plain": [
       "torch.Size([120000, 1])"
      ]
     },
     "execution_count": 158,
     "metadata": {},
     "output_type": "execute_result"
    }
   ],
   "source": [
    "labels.shape"
   ]
  },
  {
   "cell_type": "code",
   "execution_count": 159,
   "metadata": {},
   "outputs": [],
   "source": [
    "# setting up an embedding for the categories"
   ]
  },
  {
   "cell_type": "code",
   "execution_count": 160,
   "metadata": {},
   "outputs": [
    {
     "data": {
      "text/plain": [
       "[24, 2, 7]"
      ]
     },
     "execution_count": 160,
     "metadata": {},
     "output_type": "execute_result"
    }
   ],
   "source": [
    "# check the number of categories in each category type\n",
    "cat_sizes = [len(df[col].cat.categories) for col in categCols]\n",
    "cat_sizes"
   ]
  },
  {
   "cell_type": "code",
   "execution_count": 161,
   "metadata": {},
   "outputs": [
    {
     "data": {
      "text/plain": [
       "[(24, 12), (2, 1), (7, 4)]"
      ]
     },
     "execution_count": 161,
     "metadata": {},
     "output_type": "execute_result"
    }
   ],
   "source": [
    "# each embedding will be half of the number of the categories or top 50\n",
    "embedding_sizes = [(size, min(50,(size+1)//2)) for size in cat_sizes]\n",
    "embedding_sizes"
   ]
  },
  {
   "cell_type": "code",
   "execution_count": null,
   "metadata": {},
   "outputs": [],
   "source": []
  },
  {
   "cell_type": "code",
   "execution_count": null,
   "metadata": {},
   "outputs": [],
   "source": []
  },
  {
   "cell_type": "markdown",
   "metadata": {},
   "source": [
    "## Part3- Tabular Model"
   ]
  },
  {
   "cell_type": "code",
   "execution_count": 162,
   "metadata": {},
   "outputs": [
    {
     "data": {
      "text/plain": [
       "tensor([[ 4,  0,  1],\n",
       "        [11,  0,  2],\n",
       "        [ 7,  0,  2],\n",
       "        ...,\n",
       "        [14,  1,  3],\n",
       "        [ 4,  0,  5],\n",
       "        [12,  1,  2]])"
      ]
     },
     "execution_count": 162,
     "metadata": {},
     "output_type": "execute_result"
    }
   ],
   "source": [
    "cats"
   ]
  },
  {
   "cell_type": "code",
   "execution_count": 163,
   "metadata": {},
   "outputs": [
    {
     "data": {
      "text/plain": [
       "tensor([[4, 0, 1]])"
      ]
     },
     "execution_count": 163,
     "metadata": {},
     "output_type": "execute_result"
    }
   ],
   "source": [
    "catz = cats[:1]\n",
    "catz"
   ]
  },
  {
   "cell_type": "code",
   "execution_count": 164,
   "metadata": {},
   "outputs": [],
   "source": [
    "# creating a moduleList that will be constructed from the embedding sizes defined above\n",
    "selfembeds = nn.ModuleList([nn.Embedding(ni,nf) for ni,nf in embedding_sizes])"
   ]
  },
  {
   "cell_type": "code",
   "execution_count": 165,
   "metadata": {},
   "outputs": [
    {
     "data": {
      "text/plain": [
       "ModuleList(\n",
       "  (0): Embedding(24, 12)\n",
       "  (1): Embedding(2, 1)\n",
       "  (2): Embedding(7, 4)\n",
       ")"
      ]
     },
     "execution_count": 165,
     "metadata": {},
     "output_type": "execute_result"
    }
   ],
   "source": [
    "selfembeds"
   ]
  },
  {
   "cell_type": "code",
   "execution_count": 166,
   "metadata": {},
   "outputs": [
    {
     "name": "stdout",
     "output_type": "stream",
     "text": [
      "Embedding(24, 12)\n",
      "Embedding(2, 1)\n",
      "Embedding(7, 4)\n"
     ]
    }
   ],
   "source": [
    "# forward method\n",
    "embeddingz = []\n",
    "\n",
    "for i,e in enumerate(selfembeds):\n",
    "    print(e)\n",
    "    embeddingz.append(e(catz[:,i])) # passing the data of the i'th line into the embedding"
   ]
  },
  {
   "cell_type": "code",
   "execution_count": 167,
   "metadata": {},
   "outputs": [
    {
     "data": {
      "text/plain": [
       "[tensor([[-0.5343,  0.1518, -0.0851, -1.8873, -0.0577,  0.3141, -0.5973,  0.4082,\n",
       "           1.4537,  0.3265, -0.8713,  0.3579]], grad_fn=<EmbeddingBackward>),\n",
       " tensor([[0.8499]], grad_fn=<EmbeddingBackward>),\n",
       " tensor([[-0.1156, -0.0132,  0.2580,  1.2799]], grad_fn=<EmbeddingBackward>)]"
      ]
     },
     "execution_count": 167,
     "metadata": {},
     "output_type": "execute_result"
    }
   ],
   "source": [
    "embeddingz"
   ]
  },
  {
   "cell_type": "code",
   "execution_count": 168,
   "metadata": {},
   "outputs": [],
   "source": [
    "# concatenate all the tensors together\n",
    "z = torch.cat(embeddingz,1)"
   ]
  },
  {
   "cell_type": "code",
   "execution_count": 169,
   "metadata": {},
   "outputs": [
    {
     "data": {
      "text/plain": [
       "tensor([[-0.5343,  0.1518, -0.0851, -1.8873, -0.0577,  0.3141, -0.5973,  0.4082,\n",
       "          1.4537,  0.3265, -0.8713,  0.3579,  0.8499, -0.1156, -0.0132,  0.2580,\n",
       "          1.2799]], grad_fn=<CatBackward>)"
      ]
     },
     "execution_count": 169,
     "metadata": {},
     "output_type": "execute_result"
    }
   ],
   "source": [
    "z"
   ]
  },
  {
   "cell_type": "code",
   "execution_count": 170,
   "metadata": {},
   "outputs": [],
   "source": [
    "# add Dropout layer to prevent overfitting\n",
    "selfembdrop = nn.Dropout(0.4)"
   ]
  },
  {
   "cell_type": "code",
   "execution_count": 171,
   "metadata": {},
   "outputs": [
    {
     "data": {
      "text/plain": [
       "tensor([[-0.0000,  0.0000, -0.0000, -3.1455, -0.0000,  0.5235, -0.9956,  0.6803,\n",
       "          2.4228,  0.5442, -1.4522,  0.5964,  0.0000, -0.0000, -0.0220,  0.4300,\n",
       "          2.1331]], grad_fn=<MulBackward0>)"
      ]
     },
     "execution_count": 171,
     "metadata": {},
     "output_type": "execute_result"
    }
   ],
   "source": [
    "z = selfembdrop(z)\n",
    "z"
   ]
  },
  {
   "cell_type": "code",
   "execution_count": 177,
   "metadata": {},
   "outputs": [],
   "source": [
    "class TabularModel(nn.Module):\n",
    "    def __init__(self, emb_sizes, num_cont_f, output_size, layers, p=0.5):\n",
    "        super().__init__()\n",
    "        \n",
    "        self.embeds = nn.ModuleList([nn.Embedding(ni,nf) for ni,nf in emb_sizes])\n",
    "        self.emb_drop = nn.Dropout(p)\n",
    "        self.bn_cont = nn.BatchNorm1d(num_cont_f)\n",
    "        \n",
    "        layerList = []\n",
    "        n_emb = sum(nf for ni,nf in emb_sizes)\n",
    "        n_in = n_emb + num_cont_f\n",
    "        \n",
    "        # for example- layers= [200,100,40]\n",
    "        for i in layers:\n",
    "            layerList.append(nn.Linear(n_in,i))\n",
    "            layerList.append(nn.ReLU(inplace=True))\n",
    "            layerList.append(nn.BatchNorm1d(i))\n",
    "            layerList.append(nn.Dropout(p))\n",
    "            n_in = i\n",
    "            \n",
    "        layerList.append(nn.Linear(layers[-1],output_size))\n",
    "        self.layers = nn.Sequential(*layerList)\n",
    "        \n",
    "    def forward(self, x_cat, x_cont):\n",
    "        embeddings = []\n",
    "        \n",
    "        for i,e in enumerate(self.embeds):\n",
    "            embeddings.append(e(x_cat[:,i]))\n",
    "        \n",
    "        x = torch.cat(embeddings,1)\n",
    "        x = self.emb_drop(x)\n",
    "        \n",
    "        x_cont = self.bn_cont(x_cont)\n",
    "        x = torch.cat([x,x_cont],1)\n",
    "        x = self.layers(x)\n",
    "        \n",
    "        return x"
   ]
  },
  {
   "cell_type": "code",
   "execution_count": null,
   "metadata": {},
   "outputs": [],
   "source": []
  },
  {
   "cell_type": "code",
   "execution_count": null,
   "metadata": {},
   "outputs": [],
   "source": []
  },
  {
   "cell_type": "markdown",
   "metadata": {},
   "source": [
    "## Part4- Training and Evaluation"
   ]
  },
  {
   "cell_type": "code",
   "execution_count": 178,
   "metadata": {},
   "outputs": [],
   "source": [
    "torch.manual_seed(33)\n",
    "tabModel = TabularModel(embedding_sizes, conte.shape[1], 1, [200,100], p=0.4)"
   ]
  },
  {
   "cell_type": "code",
   "execution_count": 179,
   "metadata": {},
   "outputs": [
    {
     "data": {
      "text/plain": [
       "TabularModel(\n",
       "  (embeds): ModuleList(\n",
       "    (0): Embedding(24, 12)\n",
       "    (1): Embedding(2, 1)\n",
       "    (2): Embedding(7, 4)\n",
       "  )\n",
       "  (emb_drop): Dropout(p=0.4)\n",
       "  (bn_cont): BatchNorm1d(6, eps=1e-05, momentum=0.1, affine=True, track_running_stats=True)\n",
       "  (layers): Sequential(\n",
       "    (0): Linear(in_features=23, out_features=200, bias=True)\n",
       "    (1): ReLU(inplace)\n",
       "    (2): BatchNorm1d(200, eps=1e-05, momentum=0.1, affine=True, track_running_stats=True)\n",
       "    (3): Dropout(p=0.4)\n",
       "    (4): Linear(in_features=200, out_features=100, bias=True)\n",
       "    (5): ReLU(inplace)\n",
       "    (6): BatchNorm1d(100, eps=1e-05, momentum=0.1, affine=True, track_running_stats=True)\n",
       "    (7): Dropout(p=0.4)\n",
       "    (8): Linear(in_features=100, out_features=1, bias=True)\n",
       "  )\n",
       ")"
      ]
     },
     "execution_count": 179,
     "metadata": {},
     "output_type": "execute_result"
    }
   ],
   "source": [
    "tabModel"
   ]
  },
  {
   "cell_type": "code",
   "execution_count": 200,
   "metadata": {},
   "outputs": [],
   "source": [
    "criterion = nn.MSELoss() # np.sqrt(MSE) --> RMSE\n",
    "optimizer = torch.optim.Adam(tabModel.parameters(), lr=0.001)"
   ]
  },
  {
   "cell_type": "code",
   "execution_count": 201,
   "metadata": {},
   "outputs": [],
   "source": [
    "batch_size = 60000\n",
    "test_size = int(0.2 * batch_size)"
   ]
  },
  {
   "cell_type": "code",
   "execution_count": 202,
   "metadata": {},
   "outputs": [],
   "source": [
    "categ_train = cats[:batch_size-test_size]\n",
    "categ_test = cats[batch_size-test_size:batch_size]\n",
    "conte_train = conte[:batch_size-test_size]\n",
    "conte_test = conte[batch_size-test_size:batch_size]"
   ]
  },
  {
   "cell_type": "code",
   "execution_count": 203,
   "metadata": {},
   "outputs": [
    {
     "data": {
      "text/plain": [
       "120000"
      ]
     },
     "execution_count": 203,
     "metadata": {},
     "output_type": "execute_result"
    }
   ],
   "source": [
    "len(y_col)"
   ]
  },
  {
   "cell_type": "code",
   "execution_count": 210,
   "metadata": {},
   "outputs": [],
   "source": [
    "y_train = labels[:batch_size-test_size]\n",
    "y_test = labels[batch_size-test_size:batch_size]"
   ]
  },
  {
   "cell_type": "code",
   "execution_count": 211,
   "metadata": {},
   "outputs": [
    {
     "data": {
      "text/plain": [
       "48000"
      ]
     },
     "execution_count": 211,
     "metadata": {},
     "output_type": "execute_result"
    }
   ],
   "source": [
    "len(categ_train)"
   ]
  },
  {
   "cell_type": "code",
   "execution_count": 212,
   "metadata": {},
   "outputs": [
    {
     "data": {
      "text/plain": [
       "12000"
      ]
     },
     "execution_count": 212,
     "metadata": {},
     "output_type": "execute_result"
    }
   ],
   "source": [
    "len(categ_test)"
   ]
  },
  {
   "cell_type": "code",
   "execution_count": 213,
   "metadata": {},
   "outputs": [
    {
     "data": {
      "text/plain": [
       "48000"
      ]
     },
     "execution_count": 213,
     "metadata": {},
     "output_type": "execute_result"
    }
   ],
   "source": [
    "len(conte_train)"
   ]
  },
  {
   "cell_type": "code",
   "execution_count": 214,
   "metadata": {},
   "outputs": [
    {
     "name": "stdout",
     "output_type": "stream",
     "text": [
      "epoch: 1 loss is:12.500201225280762\n",
      "epoch: 6 loss is:12.335116386413574\n",
      "epoch: 11 loss is:12.161837577819824\n",
      "epoch: 16 loss is:11.961414337158203\n",
      "epoch: 21 loss is:11.742913246154785\n",
      "epoch: 26 loss is:11.527066230773926\n",
      "epoch: 31 loss is:11.321793556213379\n",
      "epoch: 36 loss is:11.115338325500488\n",
      "epoch: 41 loss is:10.908126831054688\n",
      "epoch: 46 loss is:10.68955135345459\n",
      "epoch: 51 loss is:10.476705551147461\n",
      "epoch: 56 loss is:10.267966270446777\n",
      "epoch: 61 loss is:10.075911521911621\n",
      "epoch: 66 loss is:9.893464088439941\n",
      "epoch: 71 loss is:9.69689655303955\n",
      "epoch: 76 loss is:9.541390419006348\n",
      "epoch: 81 loss is:9.368517875671387\n",
      "epoch: 86 loss is:9.196145057678223\n",
      "epoch: 91 loss is:9.054679870605469\n",
      "epoch: 96 loss is:8.899959564208984\n",
      "epoch: 101 loss is:8.74301815032959\n",
      "epoch: 106 loss is:8.569013595581055\n",
      "epoch: 111 loss is:8.399040222167969\n",
      "epoch: 116 loss is:8.202794075012207\n",
      "epoch: 121 loss is:8.026403427124023\n",
      "epoch: 126 loss is:7.83292293548584\n",
      "epoch: 131 loss is:7.613889217376709\n",
      "epoch: 136 loss is:7.415501594543457\n",
      "epoch: 141 loss is:7.188230991363525\n",
      "epoch: 146 loss is:6.95591402053833\n",
      "epoch: 151 loss is:6.7371978759765625\n",
      "epoch: 156 loss is:6.49071741104126\n",
      "epoch: 161 loss is:6.23590612411499\n",
      "epoch: 166 loss is:6.009859085083008\n",
      "epoch: 171 loss is:5.7393717765808105\n",
      "epoch: 176 loss is:5.51287841796875\n",
      "epoch: 181 loss is:5.255335807800293\n",
      "epoch: 186 loss is:5.010610580444336\n",
      "epoch: 191 loss is:4.795544147491455\n",
      "epoch: 196 loss is:4.5624237060546875\n",
      "epoch: 201 loss is:4.366602897644043\n",
      "epoch: 206 loss is:4.167006492614746\n",
      "epoch: 211 loss is:4.000418663024902\n",
      "epoch: 216 loss is:3.8897128105163574\n",
      "epoch: 221 loss is:3.7477359771728516\n",
      "epoch: 226 loss is:3.6876490116119385\n",
      "epoch: 231 loss is:3.5852932929992676\n",
      "epoch: 236 loss is:3.548494815826416\n",
      "epoch: 241 loss is:3.529705762863159\n",
      "epoch: 246 loss is:3.4889280796051025\n",
      "epoch: 251 loss is:3.4613122940063477\n",
      "epoch: 256 loss is:3.4472970962524414\n",
      "epoch: 261 loss is:3.4620702266693115\n",
      "epoch: 266 loss is:3.4432051181793213\n",
      "epoch: 271 loss is:3.434238910675049\n",
      "epoch: 276 loss is:3.4174466133117676\n",
      "epoch: 281 loss is:3.4227898120880127\n",
      "epoch: 286 loss is:3.416447401046753\n",
      "epoch: 291 loss is:3.400069236755371\n",
      "epoch: 296 loss is:3.372833013534546\n",
      "546.7499170303345\n"
     ]
    }
   ],
   "source": [
    "import time\n",
    "start_time = time.time()\n",
    "\n",
    "epochs = 300\n",
    "losses = []\n",
    "\n",
    "for i in range(epochs):\n",
    "    i+=1\n",
    "    y_pred = tabModel(categ_train,conte_train)\n",
    "    loss = torch.sqrt(criterion(y_pred, y_train)) #RMSE\n",
    "    losses.append(loss)\n",
    "    \n",
    "    \n",
    "    if i%5 == 1:\n",
    "        print(f'epoch: {i} loss is:{loss}')\n",
    "        \n",
    "    optimizer.zero_grad()\n",
    "    loss.backward()\n",
    "    optimizer.step()\n",
    "    \n",
    "duration = time.time() - start_time\n",
    "print(duration)"
   ]
  },
  {
   "cell_type": "code",
   "execution_count": 215,
   "metadata": {},
   "outputs": [
    {
     "data": {
      "text/plain": [
       "[<matplotlib.lines.Line2D at 0x1d8ca31de48>]"
      ]
     },
     "execution_count": 215,
     "metadata": {},
     "output_type": "execute_result"
    },
    {
     "data": {
      "image/png": "[encoded data removed]",
      "text/plain": [
       "<Figure size 432x288 with 1 Axes>"
      ]
     },
     "metadata": {
      "needs_background": "light"
     },
     "output_type": "display_data"
    }
   ],
   "source": [
    "plt.plot(range(epochs), losses)"
   ]
  },
  {
   "cell_type": "code",
   "execution_count": 216,
   "metadata": {},
   "outputs": [
    {
     "name": "stdout",
     "output_type": "stream",
     "text": [
      "tensor(3.3049)\n"
     ]
    }
   ],
   "source": [
    "# inferencing\n",
    "with torch.no_grad():\n",
    "    \n",
    "    y_val = tabModel(categ_test,conte_test)\n",
    "    loss = torch.sqrt(criterion(y_val, y_test)) #RMSE\n",
    "    \n",
    "    print(loss)"
   ]
  },
  {
   "cell_type": "code",
   "execution_count": 217,
   "metadata": {},
   "outputs": [
    {
     "name": "stdout",
     "output_type": "stream",
     "text": [
      "tensor([[ 5.8714],\n",
      "        [22.7236],\n",
      "        [ 6.6875],\n",
      "        ...,\n",
      "        [ 4.1522],\n",
      "        [ 6.4842],\n",
      "        [31.0077]])\n"
     ]
    }
   ],
   "source": [
    "print(y_val)"
   ]
  },
  {
   "cell_type": "code",
   "execution_count": 221,
   "metadata": {},
   "outputs": [
    {
     "name": "stdout",
     "output_type": "stream",
     "text": [
      "2.9713969230651855\n",
      "17.02356243133545\n",
      "1.012463092803955\n",
      "1.807267189025879\n",
      "0.8972654342651367\n",
      "1.1528568267822266\n",
      "2.4306933879852295\n",
      "3.3426551818847656\n",
      "0.7672524452209473\n",
      "1.3770389556884766\n"
     ]
    }
   ],
   "source": [
    "# calculate and pring the diffs between true and prdicted values\n",
    "for i in range(10):\n",
    "    difference = np.abs(y_test[i].item() - y_val[i].item())\n",
    "    print(difference)"
   ]
  },
  {
   "cell_type": "code",
   "execution_count": 222,
   "metadata": {},
   "outputs": [],
   "source": [
    "# saving the model\n",
    "torch.save(tabModel.state_dict(),'TaxiMode.pt')"
   ]
  },
  {
   "cell_type": "code",
   "execution_count": null,
   "metadata": {},
   "outputs": [],
   "source": []
  }
 ],
 "metadata": {
  "kernelspec": {
   "display_name": "Python 3",
   "language": "python",
   "name": "python3"
  },
  "language_info": {
   "codemirror_mode": {
    "name": "ipython",
    "version": 3
   },
   "file_extension": ".py",
   "mimetype": "text/x-python",
   "name": "python",
   "nbconvert_exporter": "python",
   "pygments_lexer": "ipython3",
   "version": "3.7.3"
  }
 },
 "nbformat": 4,
 "nbformat_minor": 4
}
