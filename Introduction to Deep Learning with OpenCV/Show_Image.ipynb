{
 "cells": [
  {
   "cell_type": "code",
   "execution_count": 2,
   "metadata": {},
   "outputs": [],
   "source": [
    "import numpy as np"
   ]
  },
  {
   "cell_type": "code",
   "execution_count": 3,
   "metadata": {},
   "outputs": [],
   "source": [
    "import cv2"
   ]
  },
  {
   "cell_type": "code",
   "execution_count": 4,
   "metadata": {},
   "outputs": [],
   "source": [
    "img = cv2.imread('Exercise Files/images/typewriter.jpg')\n",
    "rows = open('Exercise Files/model/synset_words.txt').read().strip().split(\"\\n\")"
   ]
  },
  {
   "cell_type": "code",
   "execution_count": 5,
   "metadata": {},
   "outputs": [],
   "source": [
    "classes = [r[r.find(' ')+ 1:]for r in rows]"
   ]
  },
  {
   "cell_type": "code",
   "execution_count": 17,
   "metadata": {},
   "outputs": [],
   "source": [
    "net = cv2.dnn.readNetFromCaffe('Exercise Files/model/bvlc_googlenet.prototxt', 'Exercise Files/model/bvlc_googlenet.caffemodel') # importing the model\n",
    "blob = cv2.dnn.blobFromImage(img, 1, (224,224)) # rescaling image size to the model requirements\n",
    "net.setInput(blob) # set the blob as input layer of the net\n",
    "outp = net.forward() # inference\n",
    "#print(outp)"
   ]
  },
  {
   "cell_type": "code",
   "execution_count": 18,
   "metadata": {},
   "outputs": [
    {
     "name": "stdout",
     "output_type": "stream",
     "text": [
      "1. typewriter keyboard (878): Propability 85.2%\n",
      "2. space bar (810): Propability 5.53%\n",
      "3. radiator (753): Propability 2.05%\n",
      "4. switch, electric switch, electrical switch (844): Propability 0.905%\n",
      "5. stove (827): Propability 0.863%\n"
     ]
    }
   ],
   "source": [
    "idx = np.argsort(outp[0])[::-1][:5] # sorting in descending order and show the top 5 \n",
    "\n",
    "for (i,id) in enumerate(idx):\n",
    "    print('{}. {} ({}): Propability {:.3}%'.format(i+1, classes[id], id, outp[0][id]*100)) # show propability with 3 significant digits"
   ]
  },
  {
   "cell_type": "code",
   "execution_count": 8,
   "metadata": {},
   "outputs": [
    {
     "name": "stdout",
     "output_type": "stream",
     "text": [
      "0 tench, Tinca tinca\n",
      "1 goldfish, Carassius auratus\n",
      "2 great white shark, white shark, man-eater, man-eating shark, Carcharodon carcharias\n",
      "3 tiger shark, Galeocerdo cuvieri\n"
     ]
    }
   ],
   "source": [
    "# for (i,c) in enumerate(classes):\n",
    "#     if i==4:\n",
    "#         break\n",
    "#     print(i,c)"
   ]
  },
  {
   "cell_type": "code",
   "execution_count": 9,
   "metadata": {},
   "outputs": [
    {
     "name": "stdout",
     "output_type": "stream",
     "text": [
      "(971, 1428, 3)\n"
     ]
    }
   ],
   "source": [
    "print(img.shape)"
   ]
  },
  {
   "cell_type": "code",
   "execution_count": 10,
   "metadata": {},
   "outputs": [
    {
     "name": "stdout",
     "output_type": "stream",
     "text": [
      "[[  6   6   6 ...   6   6   6]\n",
      " [  6   6   6 ...   6   6   6]\n",
      " [  6   6   6 ...   6   6   6]\n",
      " ...\n",
      " [  0   0   0 ...   0   0   0]\n",
      " [209 209 209 ... 209 209 209]\n",
      " [255 255 255 ... 255 255 255]]\n"
     ]
    }
   ],
   "source": [
    "b = img[:,:,0]\n",
    "print(b)"
   ]
  },
  {
   "cell_type": "code",
   "execution_count": 11,
   "metadata": {},
   "outputs": [],
   "source": [
    "g = img[:,:,1]\n",
    "r = img[:,:,2]\n"
   ]
  },
  {
   "cell_type": "code",
   "execution_count": 12,
   "metadata": {},
   "outputs": [],
   "source": [
    "cv2.imshow('Image', img) #plot image\n",
    "cv2.imshow('Blue', b) #plot image -Blue Channel\n",
    "cv2.imshow('Green', g) #plot image-Green Channel\n",
    "cv2.imshow('Red', r) #plot image-Red Channel"
   ]
  },
  {
   "cell_type": "code",
   "execution_count": 13,
   "metadata": {},
   "outputs": [],
   "source": [
    "cv2.waitKey(300000000) # execution is paused until a key is pressed \n",
    "cv2.destroyAllWindows() # close image window when a key i pressed"
   ]
  },
  {
   "cell_type": "code",
   "execution_count": null,
   "metadata": {},
   "outputs": [],
   "source": []
  },
  {
   "cell_type": "code",
   "execution_count": null,
   "metadata": {},
   "outputs": [],
   "source": []
  }
 ],
 "metadata": {
  "kernelspec": {
   "display_name": "Python 3",
   "language": "python",
   "name": "python3"
  },
  "language_info": {
   "codemirror_mode": {
    "name": "ipython",
    "version": 3
   },
   "file_extension": ".py",
   "mimetype": "text/x-python",
   "name": "python",
   "nbconvert_exporter": "python",
   "pygments_lexer": "ipython3",
   "version": "3.7.4"
  }
 },
 "nbformat": 4,
 "nbformat_minor": 2
}
